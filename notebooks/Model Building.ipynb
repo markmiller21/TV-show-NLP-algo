{
 "cells": [
  {
   "cell_type": "code",
   "execution_count": 2,
   "metadata": {
    "collapsed": true
   },
   "outputs": [],
   "source": [
    "# NOTE: I am making all my files as Python 3 compliant as possible.  \n",
    "# This import forces all print statements to be forward compatible\n",
    "from __future__ import print_function\n",
    "\n",
    "import glob # for import\n",
    "import pandas as pd"
   ]
  },
  {
   "cell_type": "code",
   "execution_count": 6,
   "metadata": {},
   "outputs": [],
   "source": [
    "# path = 'all-transcripts.csv';\n",
    "tv_data = pd.read_csv('all-transcripts.csv', index_col=0)"
   ]
  },
  {
   "cell_type": "code",
   "execution_count": 26,
   "metadata": {},
   "outputs": [
    {
     "name": "stdout",
     "output_type": "stream",
     "text": [
      "{'Sheldon': 0}\n",
      "{'Leonard': 1, 'Sheldon': 0}\n",
      "{'Penny': 2, 'Leonard': 1, 'Sheldon': 0}\n",
      "{'Penny': 2, 'Leonard': 1, 'Sheldon': 0, 'Howard': 3}\n",
      "{'Penny': 2, 'Raj': 4, 'Leonard': 1, 'Sheldon': 0, 'Howard': 3}\n",
      "{'Sheldon': 0, 'Howard': 3, 'Penny': 2, 'Raj': 4, 'Leonard': 1, 'Amy': 5}\n",
      "{'Monica': 6, 'Sheldon': 0, 'Howard': 3, 'Penny': 2, 'Raj': 4, 'Leonard': 1, 'Amy': 5}\n",
      "{'Monica': 6, 'Sheldon': 0, 'Howard': 3, 'Penny': 2, 'Raj': 4, 'Leonard': 1, 'Amy': 5, 'Joey': 7}\n",
      "{'Monica': 6, 'Sheldon': 0, 'Howard': 3, 'Penny': 2, 'Raj': 4, 'Leonard': 1, 'Amy': 5, 'Chandler': 8, 'Joey': 7}\n",
      "{'Monica': 6, 'Sheldon': 0, 'Howard': 3, 'Penny': 2, 'Raj': 4, 'Leonard': 1, 'Amy': 5, 'Ross': 9, 'Chandler': 8, 'Joey': 7}\n",
      "{'Monica': 6, 'Rachel': 10, 'Sheldon': 0, 'Howard': 3, 'Penny': 2, 'Raj': 4, 'Leonard': 1, 'Amy': 5, 'Ross': 9, 'Chandler': 8, 'Joey': 7}\n",
      "{'Monica': 6, 'Rachel': 10, 'Sheldon': 0, 'Howard': 3, 'Marshall': 11, 'Penny': 2, 'Raj': 4, 'Leonard': 1, 'Amy': 5, 'Ross': 9, 'Chandler': 8, 'Joey': 7}\n",
      "{'Monica': 6, 'Rachel': 10, 'Sheldon': 0, 'Howard': 3, 'Ted': 12, 'Marshall': 11, 'Penny': 2, 'Raj': 4, 'Leonard': 1, 'Amy': 5, 'Ross': 9, 'Chandler': 8, 'Joey': 7}\n",
      "{'Monica': 6, 'Rachel': 10, 'Sheldon': 0, 'Howard': 3, 'Ted': 12, 'Marshall': 11, 'Penny': 2, 'Raj': 4, 'Leonard': 1, 'Amy': 5, 'Barney': 13, 'Ross': 9, 'Chandler': 8, 'Joey': 7}\n",
      "{'Monica': 6, 'Rachel': 10, 'Sheldon': 0, 'Howard': 3, 'Ted': 12, 'Marshall': 11, 'Penny': 2, 'Raj': 4, 'Leonard': 1, 'Amy': 5, 'Barney': 13, 'Ross': 9, 'Lily': 14, 'Chandler': 8, 'Joey': 7}\n",
      "{'Monica': 6, 'Rachel': 10, 'Sheldon': 0, 'Howard': 3, 'Ted': 12, 'Marshall': 11, 'Penny': 2, 'Raj': 4, 'Leonard': 1, 'Robin': 15, 'Amy': 5, 'Barney': 13, 'Ross': 9, 'Lily': 14, 'Chandler': 8, 'Joey': 7}\n",
      "{'Monica': 6, 'Rachel': 10, 'Sheldon': 0, 'Howard': 3, 'Ted': 12, 'Marshall': 11, 'Penny': 2, 'Raj': 4, 'Leonard': 1, 'Robin': 15, 'Amy': 5, 'Barney': 13, 'Summer': 16, 'Ross': 9, 'Lily': 14, 'Chandler': 8, 'Joey': 7}\n",
      "{'Monica': 6, 'Morty': 17, 'Rachel': 10, 'Sheldon': 0, 'Howard': 3, 'Ted': 12, 'Marshall': 11, 'Penny': 2, 'Raj': 4, 'Leonard': 1, 'Robin': 15, 'Amy': 5, 'Barney': 13, 'Summer': 16, 'Ross': 9, 'Lily': 14, 'Chandler': 8, 'Joey': 7}\n",
      "{'Monica': 6, 'Morty': 17, 'Rachel': 10, 'Sheldon': 0, 'Howard': 3, 'Ted': 12, 'Marshall': 11, 'Penny': 2, 'Raj': 4, 'Leonard': 1, 'Robin': 15, 'Amy': 5, 'Barney': 13, 'Rick': 18, 'Summer': 16, 'Ross': 9, 'Lily': 14, 'Chandler': 8, 'Joey': 7}\n",
      "{'Monica': 6, 'Morty': 17, 'Rachel': 10, 'Sheldon': 0, 'Howard': 3, 'Ted': 12, 'Marshall': 11, 'Penny': 2, 'Raj': 4, 'Jerry': 19, 'Leonard': 1, 'Robin': 15, 'Amy': 5, 'Barney': 13, 'Rick': 18, 'Summer': 16, 'Ross': 9, 'Lily': 14, 'Chandler': 8, 'Joey': 7}\n",
      "{'Monica': 6, 'Morty': 17, 'Rachel': 10, 'Sheldon': 0, 'Howard': 3, 'Ted': 12, 'Marshall': 11, 'Penny': 2, 'Raj': 4, 'Jerry': 19, 'Leonard': 1, 'Robin': 15, 'Amy': 5, 'Barney': 13, 'Rick': 18, 'Summer': 16, 'Beth': 20, 'Ross': 9, 'Lily': 14, 'Chandler': 8, 'Joey': 7}\n",
      "{'Penny': 2, 'Sheldon': 0, 'Howard': 3, 'Raj': 4, 'Jerry': 19, 'Barney': 13, 'Rick': 18, 'Lily': 14, 'Chandler': 8, 'Ross': 9, 'Monica': 6, 'Leonard': 1, 'Amy': 5, 'Beth': 20, 'Robin': 15, 'Joey': 7, 'Summer': 16, 'Morty': 17, 'Lisa Simpson': 21, 'Marshall': 11, 'Rachel': 10, 'Ted': 12}\n",
      "{'Penny': 2, 'Sheldon': 0, 'Howard': 3, 'Raj': 4, 'Jerry': 19, 'Barney': 13, 'Rick': 18, 'Lily': 14, 'Chandler': 8, 'Ross': 9, 'Monica': 6, 'Leonard': 1, 'Amy': 5, 'Beth': 20, 'Bart Simpson': 22, 'Robin': 15, 'Joey': 7, 'Summer': 16, 'Morty': 17, 'Lisa Simpson': 21, 'Marshall': 11, 'Rachel': 10, 'Ted': 12}\n",
      "{'Penny': 2, 'Sheldon': 0, 'Howard': 3, 'Raj': 4, 'Jerry': 19, 'Barney': 13, 'Rick': 18, 'Lily': 14, 'Chandler': 8, 'Ross': 9, 'Monica': 6, 'Leonard': 1, 'Amy': 5, 'Beth': 20, 'Bart Simpson': 22, 'Robin': 15, 'Joey': 7, 'Summer': 16, 'Morty': 17, 'Lisa Simpson': 21, 'Marshall': 11, 'Rachel': 10, 'Ted': 12, 'Homer Simpson': 23}\n",
      "{'Penny': 2, 'Sheldon': 0, 'Howard': 3, 'Raj': 4, 'Jerry': 19, 'Barney': 13, 'Rick': 18, 'Lily': 14, 'Chandler': 8, 'Ross': 9, 'Monica': 6, 'Leonard': 1, 'Amy': 5, 'Beth': 20, 'Marge Simpson': 24, 'Bart Simpson': 22, 'Robin': 15, 'Joey': 7, 'Summer': 16, 'Morty': 17, 'Lisa Simpson': 21, 'Marshall': 11, 'Rachel': 10, 'Ted': 12, 'Homer Simpson': 23}\n",
      "{'Penny': 2, 'Sheldon': 0, 'Howard': 3, 'Raj': 4, 'Jerry': 19, 'Barney': 13, 'Rick': 18, 'Lily': 14, 'Chandler': 8, 'Ross': 9, 'Monica': 6, 'Leonard': 1, 'Amy': 5, 'Stan': 25, 'Beth': 20, 'Marge Simpson': 24, 'Bart Simpson': 22, 'Robin': 15, 'Joey': 7, 'Summer': 16, 'Morty': 17, 'Lisa Simpson': 21, 'Marshall': 11, 'Rachel': 10, 'Ted': 12, 'Homer Simpson': 23}\n",
      "{'Penny': 2, 'Sheldon': 0, 'Howard': 3, 'Raj': 4, 'Jerry': 19, 'Barney': 13, 'Rick': 18, 'Lily': 14, 'Chandler': 8, 'Ross': 9, 'Monica': 6, 'Leonard': 1, 'Amy': 5, 'Stan': 25, 'Beth': 20, 'Marge Simpson': 24, 'Kyle': 26, 'Bart Simpson': 22, 'Robin': 15, 'Joey': 7, 'Summer': 16, 'Morty': 17, 'Lisa Simpson': 21, 'Marshall': 11, 'Rachel': 10, 'Ted': 12, 'Homer Simpson': 23}\n",
      "{'Penny': 2, 'Sheldon': 0, 'Howard': 3, 'Raj': 4, 'Jerry': 19, 'Barney': 13, 'Rick': 18, 'Lily': 14, 'Chandler': 8, 'Ross': 9, 'Monica': 6, 'Leonard': 1, 'Amy': 5, 'Stan': 25, 'Beth': 20, 'Marge Simpson': 24, 'Kyle': 26, 'Bart Simpson': 22, 'Robin': 15, 'Joey': 7, 'Summer': 16, 'Morty': 17, 'Lisa Simpson': 21, 'Marshall': 11, 'Rachel': 10, 'Ted': 12, 'Chef': 27, 'Homer Simpson': 23}\n",
      "{'Penny': 2, 'Sheldon': 0, 'Howard': 3, 'Raj': 4, 'Jerry': 19, 'Barney': 13, 'Rick': 18, 'Lily': 14, 'Chandler': 8, 'Ross': 9, 'Monica': 6, 'Leonard': 1, 'Amy': 5, 'Stan': 25, 'Beth': 20, 'Marge Simpson': 24, 'Cartman': 28, 'Kyle': 26, 'Bart Simpson': 22, 'Robin': 15, 'Joey': 7, 'Summer': 16, 'Morty': 17, 'Lisa Simpson': 21, 'Marshall': 11, 'Rachel': 10, 'Ted': 12, 'Chef': 27, 'Homer Simpson': 23}\n",
      "{'Penny': 2, 'Sheldon': 0, 'Howard': 3, 'Raj': 4, 'Jerry': 19, 'Barney': 13, 'Rick': 18, 'Lily': 14, 'Chandler': 8, 'Ross': 9, 'Monica': 6, 'Leonard': 1, 'Amy': 5, 'Stan': 25, 'Beth': 20, 'Marge Simpson': 24, 'Cartman': 28, 'Kyle': 26, 'Bart Simpson': 22, 'Robin': 15, 'Joey': 7, 'Summer': 16, 'Morty': 17, 'Lisa Simpson': 21, 'Marshall': 11, 'Rachel': 10, 'Ted': 12, 'Chef': 27, 'Randy': 29, 'Homer Simpson': 23}\n",
      "{'Penny': 2, 'Sheldon': 0, 'Howard': 3, 'Raj': 4, 'Jerry': 19, 'Barney': 13, 'Rick': 18, 'Lily': 14, 'Chandler': 8, 'Ross': 9, 'Monica': 6, 'Leonard': 1, 'Amy': 5, 'Stan': 25, 'Beth': 20, 'Marge Simpson': 24, 'Cartman': 28, 'Kyle': 26, 'Bart Simpson': 22, 'Kenny': 30, 'Robin': 15, 'Joey': 7, 'Summer': 16, 'Morty': 17, 'Lisa Simpson': 21, 'Marshall': 11, 'Rachel': 10, 'Ted': 12, 'Chef': 27, 'Randy': 29, 'Homer Simpson': 23}\n",
      "{'Penny': 2, 'Sheldon': 0, 'Howard': 3, 'Raj': 4, 'Jerry': 19, 'Barney': 13, 'Rick': 18, 'Lily': 14, 'Chandler': 8, 'Ross': 9, 'Monica': 6, 'Butters': 31, 'Leonard': 1, 'Amy': 5, 'Stan': 25, 'Beth': 20, 'Marge Simpson': 24, 'Cartman': 28, 'Kyle': 26, 'Bart Simpson': 22, 'Kenny': 30, 'Robin': 15, 'Joey': 7, 'Summer': 16, 'Morty': 17, 'Lisa Simpson': 21, 'Marshall': 11, 'Rachel': 10, 'Ted': 12, 'Chef': 27, 'Randy': 29, 'Homer Simpson': 23}\n",
      "{'Penny': 2, 'Sheldon': 0, 'Howard': 3, 'Raj': 4, 'Jerry': 19, 'Barney': 13, 'Rick': 18, 'Mr. Garrison': 32, 'Lily': 14, 'Chandler': 8, 'Ross': 9, 'Monica': 6, 'Butters': 31, 'Leonard': 1, 'Amy': 5, 'Stan': 25, 'Beth': 20, 'Marge Simpson': 24, 'Cartman': 28, 'Kyle': 26, 'Bart Simpson': 22, 'Kenny': 30, 'Robin': 15, 'Joey': 7, 'Summer': 16, 'Morty': 17, 'Lisa Simpson': 21, 'Marshall': 11, 'Rachel': 10, 'Ted': 12, 'Chef': 27, 'Randy': 29, 'Homer Simpson': 23}\n",
      "{'Penny': 2, 'Sheldon': 0, 'Howard': 3, 'Raj': 4, 'Jerry': 19, 'Barney': 13, 'Rick': 18, 'Mr. Garrison': 32, 'Lily': 14, 'Chandler': 8, 'Ross': 9, 'Monica': 6, 'SpongeBob': 33, 'Butters': 31, 'Leonard': 1, 'Amy': 5, 'Stan': 25, 'Beth': 20, 'Marge Simpson': 24, 'Cartman': 28, 'Kyle': 26, 'Bart Simpson': 22, 'Kenny': 30, 'Robin': 15, 'Joey': 7, 'Summer': 16, 'Morty': 17, 'Lisa Simpson': 21, 'Marshall': 11, 'Rachel': 10, 'Ted': 12, 'Chef': 27, 'Randy': 29, 'Homer Simpson': 23}\n",
      "{'Penny': 2, 'Sheldon': 0, 'Howard': 3, 'Raj': 4, 'Jerry': 19, 'Barney': 13, 'Rick': 18, 'Mr. Garrison': 32, 'Lily': 14, 'Chandler': 8, 'Ross': 9, 'Monica': 6, 'SpongeBob': 33, 'Butters': 31, 'Leonard': 1, 'Amy': 5, 'Stan': 25, 'Beth': 20, 'Marge Simpson': 24, 'Cartman': 28, 'Kyle': 26, 'Bart Simpson': 22, 'Kenny': 30, 'Robin': 15, 'Joey': 7, 'Summer': 16, 'Morty': 17, 'Lisa Simpson': 21, 'Marshall': 11, 'Rachel': 10, 'Ted': 12, 'Squidward': 34, 'Chef': 27, 'Randy': 29, 'Homer Simpson': 23}\n",
      "{'Penny': 2, 'Sheldon': 0, 'Howard': 3, 'Raj': 4, 'Jerry': 19, 'Barney': 13, 'Rick': 18, 'Mr. Garrison': 32, 'Lily': 14, 'Chandler': 8, 'Ross': 9, 'Monica': 6, 'SpongeBob': 33, 'Butters': 31, 'Leonard': 1, 'Amy': 5, 'Stan': 25, 'Beth': 20, 'Marge Simpson': 24, 'Cartman': 28, 'Patrick': 35, 'Kyle': 26, 'Bart Simpson': 22, 'Kenny': 30, 'Robin': 15, 'Joey': 7, 'Summer': 16, 'Morty': 17, 'Lisa Simpson': 21, 'Marshall': 11, 'Rachel': 10, 'Ted': 12, 'Squidward': 34, 'Chef': 27, 'Randy': 29, 'Homer Simpson': 23}\n",
      "{'Penny': 2, 'Sheldon': 0, 'Howard': 3, 'Raj': 4, 'Jerry': 19, 'Barney': 13, 'Rick': 18, 'Mr. Garrison': 32, 'Lily': 14, 'Chandler': 8, 'Ross': 9, 'Monica': 6, 'SpongeBob': 33, 'Butters': 31, 'Leonard': 1, 'Amy': 5, 'Mr. Krabs': 36, 'Stan': 25, 'Beth': 20, 'Marge Simpson': 24, 'Cartman': 28, 'Patrick': 35, 'Kyle': 26, 'Bart Simpson': 22, 'Kenny': 30, 'Robin': 15, 'Joey': 7, 'Summer': 16, 'Morty': 17, 'Lisa Simpson': 21, 'Marshall': 11, 'Rachel': 10, 'Ted': 12, 'Squidward': 34, 'Chef': 27, 'Randy': 29, 'Homer Simpson': 23}\n",
      "{'Penny': 2, 'Sheldon': 0, 'Howard': 3, 'Raj': 4, 'Jerry': 19, 'Barney': 13, 'Rick': 18, 'Mr. Garrison': 32, 'Lily': 14, 'Chandler': 8, 'Ross': 9, 'Monica': 6, 'SpongeBob': 33, 'Butters': 31, 'Leonard': 1, 'Amy': 5, 'Mr. Krabs': 36, 'Stan': 25, 'Beth': 20, 'Marge Simpson': 24, 'Cartman': 28, 'Patrick': 35, 'Kyle': 26, 'Bart Simpson': 22, 'Kenny': 30, 'Robin': 15, 'Joey': 7, 'Summer': 16, 'Morty': 17, 'Lisa Simpson': 21, 'Marshall': 11, 'Rachel': 10, 'Ted': 12, 'Squidward': 34, 'Chef': 27, 'Randy': 29, 'Homer Simpson': 23, 'Sandy': 37}\n",
      "{'Penny': 2, 'Sheldon': 0, 'Howard': 3, 'Raj': 4, 'Jerry': 19, 'Barney': 13, 'Rick': 18, 'Mr. Garrison': 32, 'Lily': 14, 'Chandler': 8, 'Ross': 9, 'Monica': 6, 'SpongeBob': 33, 'Butters': 31, 'Leonard': 1, 'Amy': 5, 'Mr. Krabs': 36, 'Stan': 25, 'Beth': 20, 'Marge Simpson': 24, 'Cartman': 28, 'Patrick': 35, 'Kyle': 26, 'Plankton': 38, 'Bart Simpson': 22, 'Kenny': 30, 'Robin': 15, 'Joey': 7, 'Summer': 16, 'Morty': 17, 'Lisa Simpson': 21, 'Marshall': 11, 'Rachel': 10, 'Ted': 12, 'Squidward': 34, 'Chef': 27, 'Randy': 29, 'Homer Simpson': 23, 'Sandy': 37}\n",
      "{'Penny': 2, 'Sheldon': 0, 'Howard': 3, 'Raj': 4, 'Jerry': 19, 'Barney': 13, 'Rick': 18, 'George': 39, 'Mr. Garrison': 32, 'Lily': 14, 'Chandler': 8, 'Ross': 9, 'Monica': 6, 'SpongeBob': 33, 'Butters': 31, 'Leonard': 1, 'Amy': 5, 'Mr. Krabs': 36, 'Stan': 25, 'Beth': 20, 'Marge Simpson': 24, 'Cartman': 28, 'Patrick': 35, 'Kyle': 26, 'Plankton': 38, 'Bart Simpson': 22, 'Kenny': 30, 'Robin': 15, 'Joey': 7, 'Summer': 16, 'Morty': 17, 'Lisa Simpson': 21, 'Marshall': 11, 'Rachel': 10, 'Ted': 12, 'Squidward': 34, 'Chef': 27, 'Randy': 29, 'Homer Simpson': 23, 'Sandy': 37}\n",
      "{'Penny': 2, 'Sheldon': 0, 'Howard': 3, 'Raj': 4, 'Jerry': 19, 'Barney': 13, 'Rick': 18, 'George': 39, 'Mr. Garrison': 32, 'Lily': 14, 'Chandler': 8, 'Ross': 9, 'Monica': 6, 'SpongeBob': 33, 'Butters': 31, 'Leonard': 1, 'Amy': 5, 'Mr. Krabs': 36, 'Stan': 25, 'Beth': 20, 'Kramer': 40, 'Marge Simpson': 24, 'Cartman': 28, 'Patrick': 35, 'Kyle': 26, 'Plankton': 38, 'Bart Simpson': 22, 'Kenny': 30, 'Robin': 15, 'Joey': 7, 'Summer': 16, 'Morty': 17, 'Lisa Simpson': 21, 'Marshall': 11, 'Rachel': 10, 'Ted': 12, 'Squidward': 34, 'Chef': 27, 'Randy': 29, 'Homer Simpson': 23, 'Sandy': 37}\n",
      "{'Penny': 2, 'Sheldon': 0, 'Howard': 3, 'Raj': 4, 'Jerry': 19, 'Barney': 13, 'Rick': 18, 'George': 39, 'Mr. Garrison': 32, 'Lily': 14, 'Chandler': 8, 'Ross': 9, 'Monica': 6, 'SpongeBob': 33, 'Butters': 31, 'Leonard': 1, 'Amy': 5, 'Mr. Krabs': 36, 'Stan': 25, 'Beth': 20, 'Kramer': 40, 'Marge Simpson': 24, 'Cartman': 28, 'Patrick': 35, 'Kyle': 26, 'Elaine': 41, 'Plankton': 38, 'Bart Simpson': 22, 'Kenny': 30, 'Robin': 15, 'Joey': 7, 'Summer': 16, 'Morty': 17, 'Lisa Simpson': 21, 'Marshall': 11, 'Rachel': 10, 'Ted': 12, 'Squidward': 34, 'Chef': 27, 'Randy': 29, 'Homer Simpson': 23, 'Sandy': 37}\n"
     ]
    }
   ],
   "source": [
    "# Create character id's\n",
    "characters = tv_data.character.unique()\n",
    "char_dict = {}\n",
    "for index in range(len(characters)):\n",
    "    char_dict[characters[index]] = index"
   ]
  },
  {
   "cell_type": "code",
   "execution_count": null,
   "metadata": {
    "collapsed": true
   },
   "outputs": [],
   "source": [
    "len"
   ]
  },
  {
   "cell_type": "code",
   "execution_count": 24,
   "metadata": {},
   "outputs": [
    {
     "data": {
      "text/plain": [
       "{'Amy': 5,\n",
       " 'Barney': 13,\n",
       " 'Bart Simpson': 22,\n",
       " 'Beth': 20,\n",
       " 'Butters': 31,\n",
       " 'Cartman': 28,\n",
       " 'Chandler': 8,\n",
       " 'Chef': 27,\n",
       " 'Elaine': 41,\n",
       " 'George': 39,\n",
       " 'Homer Simpson': 23,\n",
       " 'Howard': 3,\n",
       " 'Jerry': 19,\n",
       " 'Joey': 7,\n",
       " 'Kenny': 30,\n",
       " 'Kramer': 40,\n",
       " 'Kyle': 26,\n",
       " 'Leonard': 1,\n",
       " 'Lily': 14,\n",
       " 'Lisa Simpson': 21,\n",
       " 'Marge Simpson': 24,\n",
       " 'Marshall': 11,\n",
       " 'Monica': 6,\n",
       " 'Morty': 17,\n",
       " 'Mr. Garrison': 32,\n",
       " 'Mr. Krabs': 36,\n",
       " 'Patrick': 35,\n",
       " 'Penny': 2,\n",
       " 'Plankton': 38,\n",
       " 'Rachel': 10,\n",
       " 'Raj': 4,\n",
       " 'Randy': 29,\n",
       " 'Rick': 18,\n",
       " 'Robin': 15,\n",
       " 'Ross': 9,\n",
       " 'Sandy': 37,\n",
       " 'Sheldon': 0,\n",
       " 'SpongeBob': 33,\n",
       " 'Squidward': 34,\n",
       " 'Stan': 25,\n",
       " 'Summer': 16,\n",
       " 'Ted': 12}"
      ]
     },
     "execution_count": 24,
     "metadata": {},
     "output_type": "execute_result"
    }
   ],
   "source": [
    "char_dict"
   ]
  },
  {
   "cell_type": "code",
   "execution_count": null,
   "metadata": {
    "collapsed": true
   },
   "outputs": [],
   "source": []
  }
 ],
 "metadata": {
  "kernelspec": {
   "display_name": "Python 2",
   "language": "python",
   "name": "python2"
  },
  "language_info": {
   "codemirror_mode": {
    "name": "ipython",
    "version": 2
   },
   "file_extension": ".py",
   "mimetype": "text/x-python",
   "name": "python",
   "nbconvert_exporter": "python",
   "pygments_lexer": "ipython2",
   "version": "2.7.13"
  }
 },
 "nbformat": 4,
 "nbformat_minor": 2
}
