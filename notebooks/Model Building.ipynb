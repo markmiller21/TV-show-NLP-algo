{
 "cells": [
  {
   "cell_type": "code",
   "execution_count": 2,
   "metadata": {
    "collapsed": true
   },
   "outputs": [],
   "source": [
    "# NOTE: I am making all my files as Python 3 compliant as possible.  \n",
    "# This import forces all print statements to be forward compatible\n",
    "from __future__ import print_function\n",
    "\n",
    "import glob # for import\n",
    "import pandas as pd"
   ]
  },
  {
   "cell_type": "code",
   "execution_count": 4,
   "metadata": {},
   "outputs": [
    {
     "name": "stdout",
     "output_type": "stream",
     "text": [
      "['big-bang-theory-clean-transcript.csv', 'friends-clean-transcript.csv', 'how-i-met-your-mother-clean-transcript.csv', 'rick-and-morty-clean-transcript.csv', 'seinfeld-clean-transcript.csv', 'simpsons-clean-transcript.csv', 'southpark-clean-transcript.csv', 'spongebob-clean-transcript.csv']\n"
     ]
    }
   ],
   "source": [
    "# use glob to create a list of data filenames\n",
    "data_filenames = glob.glob('*.csv')\n",
    "print(data_filenames)\n",
    "\n",
    "# # Define list of show titles (in the same order as the data_filenames)\n",
    "# show_titles = ['big-bang-theory', 'friends', 'HIMYM', 'rick-and-morty', 'seinfeld', 'simpsons', 'southpark', 'spongebob']\n",
    "\n",
    "# # combine show & path to a dictionary\n",
    "# show_path_dict = dict(zip(show_titles, data_filenames))\n",
    "# show_path_dict"
   ]
  }
 ],
 "metadata": {
  "kernelspec": {
   "display_name": "Python 2",
   "language": "python",
   "name": "python2"
  },
  "language_info": {
   "codemirror_mode": {
    "name": "ipython",
    "version": 2
   },
   "file_extension": ".py",
   "mimetype": "text/x-python",
   "name": "python",
   "nbconvert_exporter": "python",
   "pygments_lexer": "ipython2",
   "version": "2.7.13"
  }
 },
 "nbformat": 4,
 "nbformat_minor": 2
}
