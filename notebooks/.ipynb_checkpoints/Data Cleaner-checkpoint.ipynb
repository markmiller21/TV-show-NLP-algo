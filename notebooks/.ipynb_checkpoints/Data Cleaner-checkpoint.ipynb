{
 "cells": [
  {
   "cell_type": "markdown",
   "metadata": {},
   "source": [
    "# The following code is used to clean the spongebob transcripts"
   ]
  },
  {
   "cell_type": "code",
   "execution_count": 56,
   "metadata": {
    "collapsed": true
   },
   "outputs": [],
   "source": [
    "# NOTE: I am making all my files as Python 3 compliant as possible.  \n",
    "# This import forces all print statements to be forward compatible\n",
    "# for Python 2: use print only as a function\n",
    "from __future__ import print_function"
   ]
  },
  {
   "cell_type": "code",
   "execution_count": 506,
   "metadata": {
    "collapsed": true
   },
   "outputs": [],
   "source": [
    "import re # REGEX\n",
    "import glob # for import\n",
    "import pandas as pd\n",
    "import time"
   ]
  },
  {
   "cell_type": "code",
   "execution_count": 71,
   "metadata": {},
   "outputs": [
    {
     "data": {
      "text/plain": [
       "{'HIMYM': '../data/HIMYM-transcript.csv',\n",
       " 'big-bang-theory': '../data/big-bang-theory-transcript.csv',\n",
       " 'friends': '../data/friends-transcript.csv',\n",
       " 'rick-and-morty': '../data/rick-and-morty-transcript.csv',\n",
       " 'seinfeld': '../data/seinfeld-transcript.csv',\n",
       " 'simpsons': '../data/simpsons-transcript.csv',\n",
       " 'southpark': '../data/southpark-transcript.csv',\n",
       " 'spongebob': '../data/spongebob-transcript.csv'}"
      ]
     },
     "execution_count": 71,
     "metadata": {},
     "output_type": "execute_result"
    }
   ],
   "source": [
    "# use glob to create a list of data filenames\n",
    "data_filenames = glob.glob('../data/*.csv')\n",
    "\n",
    "# Define list of show titles (in the same order as the data_filenames)\n",
    "show_titles = ['big-bang-theory', 'friends', 'HIMYM', 'rick-and-morty', 'seinfeld', 'simpsons', 'southpark', 'spongebob']\n",
    "\n",
    "# combine show & path to a dictionary\n",
    "show_path_dict = dict(zip(show_titles, data_filenames))\n",
    "show_path_dict"
   ]
  },
  {
   "cell_type": "code",
   "execution_count": 72,
   "metadata": {},
   "outputs": [],
   "source": [
    "# THIS DIDNT WORK AT ALL\n",
    "# for show_name in show_path_dict:\n",
    "#     show_name_str = show_name\n",
    "#     # create a df with show name for each show in our data folder\n",
    "#     show_name = pd.read_csv(show_path_dict[show_name_str], index_col=0)\n",
    "#     # create a 'show' column with the proper store (will need for grouping)\n",
    "#     show_name['show'] = show_name_str"
   ]
  },
  {
   "cell_type": "code",
   "execution_count": 120,
   "metadata": {},
   "outputs": [],
   "source": [
    "# show_name"
   ]
  },
  {
   "cell_type": "code",
   "execution_count": 55,
   "metadata": {
    "collapsed": true
   },
   "outputs": [],
   "source": [
    "for filename in spam_filenames:\n",
    "    with open(filename) as f:\n",
    "        spam_text.append(f.read())"
   ]
  },
  {
   "cell_type": "code",
   "execution_count": 59,
   "metadata": {},
   "outputs": [
    {
     "name": "stdout",
     "output_type": "stream",
     "text": [
      "8\n",
      "8\n",
      "{'HIMYM': '../data/HIMYM-transcript.csv', 'spongebob': '../data/spongebob-transcript.csv', 'seinfeld': '../data/seinfeld-transcript.csv', 'simpsons': '../data/simpsons-transcript.csv', 'big-bang-theory': '../data/big-bang-theory-transcript.csv', 'friends': '../data/friends-transcript.csv', 'southpark': '../data/southpark-transcript.csv', 'rick-and-morty': '../data/rick-and-morty-transcript.csv'}\n"
     ]
    }
   ],
   "source": [
    "show_path_dict =dict(zip(show_titles, data_filenames))\n",
    "print(show_path_dict)"
   ]
  },
  {
   "cell_type": "code",
   "execution_count": 65,
   "metadata": {},
   "outputs": [
    {
     "name": "stdout",
     "output_type": "stream",
     "text": [
      "HIMYM ../data/HIMYM-transcript.csv\n",
      "spongebob ../data/spongebob-transcript.csv\n",
      "seinfeld ../data/seinfeld-transcript.csv\n",
      "simpsons ../data/simpsons-transcript.csv\n",
      "big-bang-theory ../data/big-bang-theory-transcript.csv\n",
      "friends ../data/friends-transcript.csv\n",
      "southpark ../data/southpark-transcript.csv\n",
      "rick-and-morty ../data/rick-and-morty-transcript.csv\n"
     ]
    }
   ],
   "source": [
    "for show_name in show_path_dict:\n",
    "    print(show_name, show_path_dict[show_name])"
   ]
  },
  {
   "cell_type": "markdown",
   "metadata": {},
   "source": [
    "## SpongeBob Data Cleaning"
   ]
  },
  {
   "cell_type": "code",
   "execution_count": 155,
   "metadata": {
    "collapsed": true
   },
   "outputs": [],
   "source": [
    "# import spongebob dataset\n",
    "sponge_path = \"../data/spongebob-transcript.csv\"\n",
    "spng = pd.read_csv(sponge_path, index_col=0)\n",
    "spng['show'] = \"SpongeBob SquarePants\";\n",
    "# Remove NA values\n",
    "spng = spng.dropna()"
   ]
  },
  {
   "cell_type": "code",
   "execution_count": 495,
   "metadata": {},
   "outputs": [],
   "source": [
    "# Define function to clean data\n",
    "def remove_stage_directives(text):\n",
    "    # removes all [] and the text inside them -- Lazy regex call\n",
    "    text = re.sub(r\"\\[.*?\\]\", '', text)\n",
    "    # removes all () and the text inside them -- Lazy regex call\n",
    "    text = re.sub(r\"\\(.*?\\)\", '', text)\n",
    "    return text\n",
    "\n",
    "def remove_html_formatting(text):\n",
    "    # removes all '\\n' & '\\b' lines\n",
    "    text = re.sub(\"\\n\", \"\", text)\n",
    "    text = re.sub(\"\\b\", \"\", text)\n",
    "    text = re.sub(\"\\r\", \"\", text)\n",
    "    text = re.sub(\"\\xe6\", \"\", text)\n",
    "    text = re.sub(\"\\xe5\", \"\", text)\n",
    "    text = re.sub(\"\\xca\", \"\", text)\n",
    "    text = re.sub(\"\\xcd\", \"'\", text)\n",
    "    text = re.sub(\"\\xefe\", \"i'\", text)\n",
    "    text = re.sub(\"\\x84\", \"i'\", text)\n",
    "    \n",
    "    return text"
   ]
  },
  {
   "cell_type": "code",
   "execution_count": 157,
   "metadata": {},
   "outputs": [],
   "source": [
    "spng['line'] = spng.line.apply(remove_stage_directives)\n",
    "spng['line'] = spng.line.apply(remove_html_formatting)\n",
    "spng['character'] = spng.character.apply(remove_stage_directives)\n",
    "spng['character'] = spng.character.apply(remove_html_formatting)"
   ]
  },
  {
   "cell_type": "code",
   "execution_count": 167,
   "metadata": {},
   "outputs": [],
   "source": [
    "grouped = spng.groupby(by=['character'])"
   ]
  },
  {
   "cell_type": "code",
   "execution_count": 185,
   "metadata": {},
   "outputs": [
    {
     "name": "stderr",
     "output_type": "stream",
     "text": [
      "/Users/markmiller21/anaconda2/lib/python2.7/site-packages/ipykernel_launcher.py:2: FutureWarning: sort(columns=....) is deprecated, use sort_values(by=.....)\n",
      "  \n"
     ]
    },
    {
     "data": {
      "text/html": [
       "<div>\n",
       "<table border=\"1\" class=\"dataframe\">\n",
       "  <thead>\n",
       "    <tr style=\"text-align: right;\">\n",
       "      <th></th>\n",
       "      <th>episode</th>\n",
       "      <th>line</th>\n",
       "      <th>season</th>\n",
       "      <th>show</th>\n",
       "    </tr>\n",
       "    <tr>\n",
       "      <th>character</th>\n",
       "      <th></th>\n",
       "      <th></th>\n",
       "      <th></th>\n",
       "      <th></th>\n",
       "    </tr>\n",
       "  </thead>\n",
       "  <tbody>\n",
       "    <tr>\n",
       "      <th>SpongeBob</th>\n",
       "      <td>7116</td>\n",
       "      <td>7116</td>\n",
       "      <td>7116</td>\n",
       "      <td>7116</td>\n",
       "    </tr>\n",
       "    <tr>\n",
       "      <th>Patrick</th>\n",
       "      <td>2984</td>\n",
       "      <td>2984</td>\n",
       "      <td>2984</td>\n",
       "      <td>2984</td>\n",
       "    </tr>\n",
       "    <tr>\n",
       "      <th>Squidward</th>\n",
       "      <td>2716</td>\n",
       "      <td>2716</td>\n",
       "      <td>2716</td>\n",
       "      <td>2716</td>\n",
       "    </tr>\n",
       "    <tr>\n",
       "      <th>Mr. Krabs</th>\n",
       "      <td>2683</td>\n",
       "      <td>2683</td>\n",
       "      <td>2683</td>\n",
       "      <td>2683</td>\n",
       "    </tr>\n",
       "    <tr>\n",
       "      <th>Plankton</th>\n",
       "      <td>945</td>\n",
       "      <td>945</td>\n",
       "      <td>945</td>\n",
       "      <td>945</td>\n",
       "    </tr>\n",
       "  </tbody>\n",
       "</table>\n",
       "</div>"
      ],
      "text/plain": [
       "           episode  line  season  show\n",
       "character                             \n",
       "SpongeBob     7116  7116    7116  7116\n",
       "Patrick       2984  2984    2984  2984\n",
       "Squidward     2716  2716    2716  2716\n",
       "Mr. Krabs     2683  2683    2683  2683\n",
       "Plankton       945   945     945   945"
      ]
     },
     "execution_count": 185,
     "metadata": {},
     "output_type": "execute_result"
    }
   ],
   "source": [
    "# Sort \n",
    "spng.groupby('character').count().sort(['line'], ascending=False).head(5)"
   ]
  },
  {
   "cell_type": "code",
   "execution_count": 183,
   "metadata": {},
   "outputs": [],
   "source": [
    "# Mr. Krabs had his name spelled a few different way Krabs, Mr Krabs, & Mr. Krabs\n",
    "spng.loc[spng['character'] == 'Krabs', 'character'] = 'Mr. Krabs'\n",
    "spng.loc[spng['character'] == 'Mr Krabs', 'character'] = 'Mr. Krabs'"
   ]
  },
  {
   "cell_type": "code",
   "execution_count": 187,
   "metadata": {},
   "outputs": [],
   "source": [
    "spng_char_list = ['Sandy', 'Plankton', 'Mr. Krabs', 'Squidward', 'Patrick', 'SpongeBob']"
   ]
  },
  {
   "cell_type": "code",
   "execution_count": 188,
   "metadata": {
    "collapsed": true
   },
   "outputs": [],
   "source": [
    "spng_clean = spng[spng['character'].isin(spng_char_list)]"
   ]
  },
  {
   "cell_type": "code",
   "execution_count": 208,
   "metadata": {},
   "outputs": [],
   "source": [
    "# returns the characters in the line\n",
    "def calculate_character_length(text):\n",
    "    return len(text)\n",
    "\n",
    "# returns the words in the line\n",
    "def word_count(text):\n",
    "    return len(text.split())"
   ]
  },
  {
   "cell_type": "code",
   "execution_count": 209,
   "metadata": {},
   "outputs": [
    {
     "name": "stderr",
     "output_type": "stream",
     "text": [
      "/Users/markmiller21/anaconda2/lib/python2.7/site-packages/ipykernel_launcher.py:1: SettingWithCopyWarning: \n",
      "A value is trying to be set on a copy of a slice from a DataFrame.\n",
      "Try using .loc[row_indexer,col_indexer] = value instead\n",
      "\n",
      "See the caveats in the documentation: http://pandas.pydata.org/pandas-docs/stable/indexing.html#indexing-view-versus-copy\n",
      "  \"\"\"Entry point for launching an IPython kernel.\n",
      "/Users/markmiller21/anaconda2/lib/python2.7/site-packages/ipykernel_launcher.py:2: SettingWithCopyWarning: \n",
      "A value is trying to be set on a copy of a slice from a DataFrame.\n",
      "Try using .loc[row_indexer,col_indexer] = value instead\n",
      "\n",
      "See the caveats in the documentation: http://pandas.pydata.org/pandas-docs/stable/indexing.html#indexing-view-versus-copy\n",
      "  \n"
     ]
    }
   ],
   "source": [
    "spng_clean['characters_spoken'] = spng_clean.line.apply(calculate_character_length)\n",
    "spng_clean['words_spoken'] = spng_clean.line.apply(word_count)"
   ]
  },
  {
   "cell_type": "code",
   "execution_count": 211,
   "metadata": {},
   "outputs": [],
   "source": [
    "spng_clean.to_csv(\"spongebob-clean-transcript.csv\", encoding='utf-8')"
   ]
  },
  {
   "cell_type": "code",
   "execution_count": null,
   "metadata": {
    "collapsed": true
   },
   "outputs": [],
   "source": []
  },
  {
   "cell_type": "markdown",
   "metadata": {},
   "source": [
    "## RIck and Morty Data Scrubbing"
   ]
  },
  {
   "cell_type": "code",
   "execution_count": 394,
   "metadata": {
    "collapsed": true
   },
   "outputs": [],
   "source": [
    "# import Rick and Morty dataset\n",
    "rm_path = \"../data/rick-and-morty-transcript.csv\"\n",
    "rick_n_morty = pd.read_csv(rm_path, index_col=0)\n",
    "rick_n_morty['show'] = \"Rick and Morty\";\n",
    "# Remove NA values\n",
    "rick_n_morty = rick_n_morty.dropna()"
   ]
  },
  {
   "cell_type": "code",
   "execution_count": 395,
   "metadata": {},
   "outputs": [
    {
     "data": {
      "text/plain": [
       "\"Summer:\\xe6Hurry up Morty, Grampa's about to unfreeze time. You know you really should be cleaning from top to bottom.\""
      ]
     },
     "execution_count": 395,
     "metadata": {},
     "output_type": "execute_result"
    }
   ],
   "source": [
    "rick_n_morty.loc[1].line"
   ]
  },
  {
   "cell_type": "code",
   "execution_count": 396,
   "metadata": {
    "collapsed": true
   },
   "outputs": [],
   "source": [
    "# Remove odd formatting\n",
    "rick_n_morty['line'] = rick_n_morty.line.apply(remove_stage_directives)\n",
    "rick_n_morty['line'] = rick_n_morty.line.apply(remove_html_formatting)"
   ]
  },
  {
   "cell_type": "code",
   "execution_count": 397,
   "metadata": {
    "collapsed": true
   },
   "outputs": [],
   "source": [
    "# Add line function to eliminate invalid lines\n",
    "def add_line(line_list):\n",
    "    if len(line_list) > 1:\n",
    "        return line_list[1]"
   ]
  },
  {
   "cell_type": "code",
   "execution_count": 398,
   "metadata": {},
   "outputs": [],
   "source": [
    "# Split the line column into 2 columns (character & line)\n",
    "char_line = rick_n_morty.line.apply(lambda x: x.split(':'))\n",
    "rick_n_morty['character'] = char_line.apply(lambda x: x[0])\n",
    "rick_n_morty['line'] = char_line.apply(add_line)"
   ]
  },
  {
   "cell_type": "code",
   "execution_count": 399,
   "metadata": {},
   "outputs": [
    {
     "data": {
      "text/plain": [
       "2656"
      ]
     },
     "execution_count": 399,
     "metadata": {},
     "output_type": "execute_result"
    }
   ],
   "source": [
    "len(rick_n_morty)"
   ]
  },
  {
   "cell_type": "code",
   "execution_count": 400,
   "metadata": {},
   "outputs": [
    {
     "data": {
      "text/plain": [
       "1946"
      ]
     },
     "execution_count": 400,
     "metadata": {},
     "output_type": "execute_result"
    }
   ],
   "source": [
    "rick_n_morty = rick_n_morty[rick_n_morty.line.notnull()]\n",
    "len(rick_n_morty)"
   ]
  },
  {
   "cell_type": "code",
   "execution_count": 401,
   "metadata": {},
   "outputs": [
    {
     "data": {
      "text/plain": [
       "' Did he just say \\xf1musical reality show\\xee?'"
      ]
     },
     "execution_count": 401,
     "metadata": {},
     "output_type": "execute_result"
    }
   ],
   "source": [
    "rick_n_morty.loc[4609].line"
   ]
  },
  {
   "cell_type": "code",
   "execution_count": 402,
   "metadata": {},
   "outputs": [
    {
     "data": {
      "text/html": [
       "<div>\n",
       "<table border=\"1\" class=\"dataframe\">\n",
       "  <thead>\n",
       "    <tr style=\"text-align: right;\">\n",
       "      <th></th>\n",
       "      <th>episode</th>\n",
       "      <th>season</th>\n",
       "      <th>line</th>\n",
       "      <th>show</th>\n",
       "      <th>character</th>\n",
       "    </tr>\n",
       "    <tr>\n",
       "      <th>index</th>\n",
       "      <th></th>\n",
       "      <th></th>\n",
       "      <th></th>\n",
       "      <th></th>\n",
       "      <th></th>\n",
       "    </tr>\n",
       "  </thead>\n",
       "  <tbody>\n",
       "    <tr>\n",
       "      <th>1</th>\n",
       "      <td>1</td>\n",
       "      <td>2</td>\n",
       "      <td>Hurry up Morty, Grampa's about to unfreeze tim...</td>\n",
       "      <td>Rick and Morty</td>\n",
       "      <td>Summer</td>\n",
       "    </tr>\n",
       "    <tr>\n",
       "      <th>3</th>\n",
       "      <td>1</td>\n",
       "      <td>2</td>\n",
       "      <td>I know how to vacuum Mom and Dad, Summer, I've...</td>\n",
       "      <td>Rick and Morty</td>\n",
       "      <td>Morty</td>\n",
       "    </tr>\n",
       "    <tr>\n",
       "      <th>5</th>\n",
       "      <td>1</td>\n",
       "      <td>2</td>\n",
       "      <td>Then you've been doing itwrongfor six months. ...</td>\n",
       "      <td>Rick and Morty</td>\n",
       "      <td>Summer</td>\n",
       "    </tr>\n",
       "    <tr>\n",
       "      <th>7</th>\n",
       "      <td>1</td>\n",
       "      <td>2</td>\n",
       "      <td>It's not my fault we froze time on a humid day!</td>\n",
       "      <td>Rick and Morty</td>\n",
       "      <td>Morty</td>\n",
       "    </tr>\n",
       "    <tr>\n",
       "      <th>9</th>\n",
       "      <td>1</td>\n",
       "      <td>2</td>\n",
       "      <td>You have dropped so many balls, man. Do you ev...</td>\n",
       "      <td>Rick and Morty</td>\n",
       "      <td>Summer</td>\n",
       "    </tr>\n",
       "  </tbody>\n",
       "</table>\n",
       "</div>"
      ],
      "text/plain": [
       "       episode  season                                               line  \\\n",
       "index                                                                       \n",
       "1            1       2  Hurry up Morty, Grampa's about to unfreeze tim...   \n",
       "3            1       2  I know how to vacuum Mom and Dad, Summer, I've...   \n",
       "5            1       2  Then you've been doing itwrongfor six months. ...   \n",
       "7            1       2    It's not my fault we froze time on a humid day!   \n",
       "9            1       2  You have dropped so many balls, man. Do you ev...   \n",
       "\n",
       "                 show character  \n",
       "index                            \n",
       "1      Rick and Morty    Summer  \n",
       "3      Rick and Morty     Morty  \n",
       "5      Rick and Morty    Summer  \n",
       "7      Rick and Morty     Morty  \n",
       "9      Rick and Morty    Summer  "
      ]
     },
     "execution_count": 402,
     "metadata": {},
     "output_type": "execute_result"
    }
   ],
   "source": [
    "rick_n_morty.head()"
   ]
  },
  {
   "cell_type": "code",
   "execution_count": 403,
   "metadata": {},
   "outputs": [
    {
     "data": {
      "text/html": [
       "<div>\n",
       "<table border=\"1\" class=\"dataframe\">\n",
       "  <thead>\n",
       "    <tr style=\"text-align: right;\">\n",
       "      <th></th>\n",
       "      <th>episode</th>\n",
       "      <th>season</th>\n",
       "      <th>line</th>\n",
       "      <th>show</th>\n",
       "    </tr>\n",
       "    <tr>\n",
       "      <th>character</th>\n",
       "      <th></th>\n",
       "      <th></th>\n",
       "      <th></th>\n",
       "      <th></th>\n",
       "    </tr>\n",
       "  </thead>\n",
       "  <tbody>\n",
       "    <tr>\n",
       "      <th>Rick</th>\n",
       "      <td>479</td>\n",
       "      <td>479</td>\n",
       "      <td>479</td>\n",
       "      <td>479</td>\n",
       "    </tr>\n",
       "    <tr>\n",
       "      <th>Morty</th>\n",
       "      <td>363</td>\n",
       "      <td>363</td>\n",
       "      <td>363</td>\n",
       "      <td>363</td>\n",
       "    </tr>\n",
       "    <tr>\n",
       "      <th>Jerry</th>\n",
       "      <td>194</td>\n",
       "      <td>194</td>\n",
       "      <td>194</td>\n",
       "      <td>194</td>\n",
       "    </tr>\n",
       "    <tr>\n",
       "      <th>Beth</th>\n",
       "      <td>118</td>\n",
       "      <td>118</td>\n",
       "      <td>118</td>\n",
       "      <td>118</td>\n",
       "    </tr>\n",
       "    <tr>\n",
       "      <th>Summer</th>\n",
       "      <td>101</td>\n",
       "      <td>101</td>\n",
       "      <td>101</td>\n",
       "      <td>101</td>\n",
       "    </tr>\n",
       "  </tbody>\n",
       "</table>\n",
       "</div>"
      ],
      "text/plain": [
       "           episode  season  line  show\n",
       "character                             \n",
       "Rick           479     479   479   479\n",
       "Morty          363     363   363   363\n",
       "Jerry          194     194   194   194\n",
       "Beth           118     118   118   118\n",
       "Summer         101     101   101   101"
      ]
     },
     "execution_count": 403,
     "metadata": {},
     "output_type": "execute_result"
    }
   ],
   "source": [
    "# Due to the small amount of data we have for rick and morty we are transforming alternate universe Rick & Morty\n",
    "# Given the alternate reality theory in the show this actaully is in line with the plot\n",
    "\n",
    "# Rick Alternatives\n",
    "rick_n_morty.loc[rick_n_morty['character'] == 'All Ricks', 'character'] = 'Rick'\n",
    "rick_n_morty.loc[rick_n_morty['character'] == 'Rick 30', 'character'] = 'Rick'\n",
    "rick_n_morty.loc[rick_n_morty['character'] == 'Rick 2', 'character'] = 'Rick'\n",
    "rick_n_morty.loc[rick_n_morty['character'] == 'Rick 1', 'character'] = 'Rick'\n",
    "rick_n_morty.loc[rick_n_morty['character'] == 'Rick ', 'character'] = 'Rick'\n",
    "\n",
    "# Morty Alternatives\n",
    "rick_n_morty.loc[rick_n_morty['character'] == 'All Mortys', 'character'] = 'Morty'\n",
    "rick_n_morty.loc[rick_n_morty['character'] == 'Morty 30', 'character'] = 'Morty'\n",
    "rick_n_morty.loc[rick_n_morty['character'] == 'Morty 2', 'character'] = 'Morty'\n",
    "rick_n_morty.loc[rick_n_morty['character'] == 'Morty 1', 'character'] = 'Morty'\n",
    "rick_n_morty.loc[rick_n_morty['character'] == 'Morty ', 'character'] = 'Morty'\n",
    "\n",
    "# other character alternates\n",
    "rick_n_morty.loc[rick_n_morty['character'] == 'All Summers', 'character'] = 'Summer'\n",
    "rick_n_morty.loc[rick_n_morty['character'] == 'Summer 2', 'character'] = 'Summer'\n",
    "rick_n_morty.loc[rick_n_morty['character'] == 'Summer 1', 'character'] = 'Summer'\n",
    "rick_n_morty.loc[rick_n_morty['character'] == 'Summer ', 'character'] = 'Summer'\n",
    "rick_n_morty.loc[rick_n_morty['character'] == 'Beth ', 'character'] = 'Beth'\n",
    "rick_n_morty.loc[rick_n_morty['character'] == 'Simulation Beth', 'character'] = 'Beth'\n",
    "rick_n_morty.loc[rick_n_morty['character'] == 'Jerry ', 'character'] = 'Beth'\n",
    "rick_n_morty.loc[rick_n_morty['character'] == 'Other Jerry', 'character'] = 'Jerry'\n",
    "\n",
    "# Print to see result\n",
    "rick_n_morty.groupby('character').count().sort_values(by=['line'], ascending=False).head(5)"
   ]
  },
  {
   "cell_type": "code",
   "execution_count": 404,
   "metadata": {
    "collapsed": true
   },
   "outputs": [],
   "source": [
    "# Calculate characters used and words used per line\n",
    "rick_n_morty['characters_spoken'] = rick_n_morty.line.apply(calculate_character_length)\n",
    "rick_n_morty['words_spoken'] = rick_n_morty.line.apply(word_count)"
   ]
  },
  {
   "cell_type": "code",
   "execution_count": 413,
   "metadata": {},
   "outputs": [
    {
     "data": {
      "text/html": [
       "<div>\n",
       "<table border=\"1\" class=\"dataframe\">\n",
       "  <thead>\n",
       "    <tr style=\"text-align: right;\">\n",
       "      <th></th>\n",
       "      <th>episode</th>\n",
       "      <th>season</th>\n",
       "      <th>line</th>\n",
       "      <th>show</th>\n",
       "      <th>character</th>\n",
       "      <th>characters_spoken</th>\n",
       "      <th>words_spoken</th>\n",
       "    </tr>\n",
       "    <tr>\n",
       "      <th>index</th>\n",
       "      <th></th>\n",
       "      <th></th>\n",
       "      <th></th>\n",
       "      <th></th>\n",
       "      <th></th>\n",
       "      <th></th>\n",
       "      <th></th>\n",
       "    </tr>\n",
       "  </thead>\n",
       "  <tbody>\n",
       "    <tr>\n",
       "      <th>1</th>\n",
       "      <td>1</td>\n",
       "      <td>2</td>\n",
       "      <td>Hurry up Morty, Grampa's about to unfreeze tim...</td>\n",
       "      <td>Rick and Morty</td>\n",
       "      <td>Summer</td>\n",
       "      <td>107</td>\n",
       "      <td>19</td>\n",
       "    </tr>\n",
       "    <tr>\n",
       "      <th>3</th>\n",
       "      <td>1</td>\n",
       "      <td>2</td>\n",
       "      <td>I know how to vacuum Mom and Dad, Summer, I've...</td>\n",
       "      <td>Rick and Morty</td>\n",
       "      <td>Morty</td>\n",
       "      <td>76</td>\n",
       "      <td>16</td>\n",
       "    </tr>\n",
       "    <tr>\n",
       "      <th>5</th>\n",
       "      <td>1</td>\n",
       "      <td>2</td>\n",
       "      <td>Then you've been doing itwrongfor six months. ...</td>\n",
       "      <td>Rick and Morty</td>\n",
       "      <td>Summer</td>\n",
       "      <td>71</td>\n",
       "      <td>13</td>\n",
       "    </tr>\n",
       "    <tr>\n",
       "      <th>7</th>\n",
       "      <td>1</td>\n",
       "      <td>2</td>\n",
       "      <td>It's not my fault we froze time on a humid day!</td>\n",
       "      <td>Rick and Morty</td>\n",
       "      <td>Morty</td>\n",
       "      <td>47</td>\n",
       "      <td>11</td>\n",
       "    </tr>\n",
       "    <tr>\n",
       "      <th>9</th>\n",
       "      <td>1</td>\n",
       "      <td>2</td>\n",
       "      <td>You have dropped so many balls, man. Do you ev...</td>\n",
       "      <td>Rick and Morty</td>\n",
       "      <td>Summer</td>\n",
       "      <td>103</td>\n",
       "      <td>20</td>\n",
       "    </tr>\n",
       "  </tbody>\n",
       "</table>\n",
       "</div>"
      ],
      "text/plain": [
       "       episode  season                                               line  \\\n",
       "index                                                                       \n",
       "1            1       2  Hurry up Morty, Grampa's about to unfreeze tim...   \n",
       "3            1       2  I know how to vacuum Mom and Dad, Summer, I've...   \n",
       "5            1       2  Then you've been doing itwrongfor six months. ...   \n",
       "7            1       2    It's not my fault we froze time on a humid day!   \n",
       "9            1       2  You have dropped so many balls, man. Do you ev...   \n",
       "\n",
       "                 show character  characters_spoken  words_spoken  \n",
       "index                                                             \n",
       "1      Rick and Morty    Summer                107            19  \n",
       "3      Rick and Morty     Morty                 76            16  \n",
       "5      Rick and Morty    Summer                 71            13  \n",
       "7      Rick and Morty     Morty                 47            11  \n",
       "9      Rick and Morty    Summer                103            20  "
      ]
     },
     "execution_count": 413,
     "metadata": {},
     "output_type": "execute_result"
    }
   ],
   "source": [
    "rick_n_morty.head()"
   ]
  },
  {
   "cell_type": "code",
   "execution_count": 406,
   "metadata": {
    "collapsed": true
   },
   "outputs": [],
   "source": [
    "rnm_char_list = ['Rick', 'Morty', 'Jerry', 'Summer', 'Beth']"
   ]
  },
  {
   "cell_type": "code",
   "execution_count": 258,
   "metadata": {},
   "outputs": [],
   "source": [
    "# gee_guys_i_dont_know = pd.DataFrame(rick_n_morty.line.str.split(':',1).tolist(), columns = ['character','line', 'episode', 'season'])"
   ]
  },
  {
   "cell_type": "code",
   "execution_count": 224,
   "metadata": {},
   "outputs": [],
   "source": [
    "# gee_guys_i_dont_know = gee_guys_i_dont_know.dropna()"
   ]
  },
  {
   "cell_type": "code",
   "execution_count": 259,
   "metadata": {},
   "outputs": [],
   "source": [
    "# gee_guys_i_dont_know"
   ]
  },
  {
   "cell_type": "code",
   "execution_count": 407,
   "metadata": {
    "collapsed": true
   },
   "outputs": [],
   "source": [
    "rnm_clean = rick_n_morty[rick_n_morty['character'].isin(rnm_char_list)]"
   ]
  },
  {
   "cell_type": "code",
   "execution_count": 408,
   "metadata": {},
   "outputs": [
    {
     "data": {
      "text/html": [
       "<div>\n",
       "<table border=\"1\" class=\"dataframe\">\n",
       "  <thead>\n",
       "    <tr style=\"text-align: right;\">\n",
       "      <th></th>\n",
       "      <th>episode</th>\n",
       "      <th>season</th>\n",
       "      <th>line</th>\n",
       "      <th>show</th>\n",
       "      <th>character</th>\n",
       "      <th>characters_spoken</th>\n",
       "      <th>words_spoken</th>\n",
       "    </tr>\n",
       "    <tr>\n",
       "      <th>index</th>\n",
       "      <th></th>\n",
       "      <th></th>\n",
       "      <th></th>\n",
       "      <th></th>\n",
       "      <th></th>\n",
       "      <th></th>\n",
       "      <th></th>\n",
       "    </tr>\n",
       "  </thead>\n",
       "  <tbody>\n",
       "    <tr>\n",
       "      <th>1</th>\n",
       "      <td>1</td>\n",
       "      <td>2</td>\n",
       "      <td>Hurry up Morty, Grampa's about to unfreeze tim...</td>\n",
       "      <td>Rick and Morty</td>\n",
       "      <td>Summer</td>\n",
       "      <td>107</td>\n",
       "      <td>19</td>\n",
       "    </tr>\n",
       "    <tr>\n",
       "      <th>3</th>\n",
       "      <td>1</td>\n",
       "      <td>2</td>\n",
       "      <td>I know how to vacuum Mom and Dad, Summer, I've...</td>\n",
       "      <td>Rick and Morty</td>\n",
       "      <td>Morty</td>\n",
       "      <td>76</td>\n",
       "      <td>16</td>\n",
       "    </tr>\n",
       "    <tr>\n",
       "      <th>5</th>\n",
       "      <td>1</td>\n",
       "      <td>2</td>\n",
       "      <td>Then you've been doing itwrongfor six months. ...</td>\n",
       "      <td>Rick and Morty</td>\n",
       "      <td>Summer</td>\n",
       "      <td>71</td>\n",
       "      <td>13</td>\n",
       "    </tr>\n",
       "    <tr>\n",
       "      <th>7</th>\n",
       "      <td>1</td>\n",
       "      <td>2</td>\n",
       "      <td>It's not my fault we froze time on a humid day!</td>\n",
       "      <td>Rick and Morty</td>\n",
       "      <td>Morty</td>\n",
       "      <td>47</td>\n",
       "      <td>11</td>\n",
       "    </tr>\n",
       "    <tr>\n",
       "      <th>9</th>\n",
       "      <td>1</td>\n",
       "      <td>2</td>\n",
       "      <td>You have dropped so many balls, man. Do you ev...</td>\n",
       "      <td>Rick and Morty</td>\n",
       "      <td>Summer</td>\n",
       "      <td>103</td>\n",
       "      <td>20</td>\n",
       "    </tr>\n",
       "  </tbody>\n",
       "</table>\n",
       "</div>"
      ],
      "text/plain": [
       "       episode  season                                               line  \\\n",
       "index                                                                       \n",
       "1            1       2  Hurry up Morty, Grampa's about to unfreeze tim...   \n",
       "3            1       2  I know how to vacuum Mom and Dad, Summer, I've...   \n",
       "5            1       2  Then you've been doing itwrongfor six months. ...   \n",
       "7            1       2    It's not my fault we froze time on a humid day!   \n",
       "9            1       2  You have dropped so many balls, man. Do you ev...   \n",
       "\n",
       "                 show character  characters_spoken  words_spoken  \n",
       "index                                                             \n",
       "1      Rick and Morty    Summer                107            19  \n",
       "3      Rick and Morty     Morty                 76            16  \n",
       "5      Rick and Morty    Summer                 71            13  \n",
       "7      Rick and Morty     Morty                 47            11  \n",
       "9      Rick and Morty    Summer                103            20  "
      ]
     },
     "execution_count": 408,
     "metadata": {},
     "output_type": "execute_result"
    }
   ],
   "source": [
    "rnm_clean.head()"
   ]
  },
  {
   "cell_type": "code",
   "execution_count": 412,
   "metadata": {},
   "outputs": [],
   "source": [
    "rnm_clean.to_csv(\"rick-and-morty-clean-transcript.csv\")"
   ]
  },
  {
   "cell_type": "markdown",
   "metadata": {},
   "source": [
    "# Simpsons cleaning"
   ]
  },
  {
   "cell_type": "code",
   "execution_count": 421,
   "metadata": {},
   "outputs": [],
   "source": [
    "# import Simpsons dataset\n",
    "simp_path = \"../data/simpsons-transcript.csv\"\n",
    "simpsons = pd.read_csv(simp_path, index_col=0)\n",
    "simpsons['show'] = \"Simpsons\";\n",
    "# Remove NA values\n",
    "simpsons = simpsons.dropna()"
   ]
  },
  {
   "cell_type": "code",
   "execution_count": 423,
   "metadata": {},
   "outputs": [
    {
     "name": "stdout",
     "output_type": "stream",
     "text": [
      "132062\n",
      "109005\n"
     ]
    }
   ],
   "source": [
    "# Remove non-speaking lines\n",
    "print(\"lines before\", len(simpsons))\n",
    "simpsons = simpsons[simpsons.speaking_line == True]\n",
    "print(\"lines after \", len(simpsons))"
   ]
  },
  {
   "cell_type": "code",
   "execution_count": 425,
   "metadata": {},
   "outputs": [
    {
     "data": {
      "text/html": [
       "<div>\n",
       "<table border=\"1\" class=\"dataframe\">\n",
       "  <thead>\n",
       "    <tr style=\"text-align: right;\">\n",
       "      <th></th>\n",
       "      <th>episode_id</th>\n",
       "      <th>number</th>\n",
       "      <th>speaking_line</th>\n",
       "      <th>character</th>\n",
       "      <th>line</th>\n",
       "      <th>word_count</th>\n",
       "      <th>show</th>\n",
       "    </tr>\n",
       "    <tr>\n",
       "      <th>id</th>\n",
       "      <th></th>\n",
       "      <th></th>\n",
       "      <th></th>\n",
       "      <th></th>\n",
       "      <th></th>\n",
       "      <th></th>\n",
       "      <th></th>\n",
       "    </tr>\n",
       "  </thead>\n",
       "  <tbody>\n",
       "    <tr>\n",
       "      <th>9549.0</th>\n",
       "      <td>32.0</td>\n",
       "      <td>209.0</td>\n",
       "      <td>True</td>\n",
       "      <td>Miss Hoover</td>\n",
       "      <td>no actually it was a little of both sometimes ...</td>\n",
       "      <td>31.0</td>\n",
       "      <td>Simpsons</td>\n",
       "    </tr>\n",
       "    <tr>\n",
       "      <th>9550.0</th>\n",
       "      <td>32.0</td>\n",
       "      <td>210.0</td>\n",
       "      <td>True</td>\n",
       "      <td>Lisa Simpson</td>\n",
       "      <td>wheres mr bergstrom</td>\n",
       "      <td>3.0</td>\n",
       "      <td>Simpsons</td>\n",
       "    </tr>\n",
       "    <tr>\n",
       "      <th>9551.0</th>\n",
       "      <td>32.0</td>\n",
       "      <td>211.0</td>\n",
       "      <td>True</td>\n",
       "      <td>Miss Hoover</td>\n",
       "      <td>i dont know although id sure like to talk to h...</td>\n",
       "      <td>22.0</td>\n",
       "      <td>Simpsons</td>\n",
       "    </tr>\n",
       "    <tr>\n",
       "      <th>9552.0</th>\n",
       "      <td>32.0</td>\n",
       "      <td>212.0</td>\n",
       "      <td>True</td>\n",
       "      <td>Lisa Simpson</td>\n",
       "      <td>that life is worth living</td>\n",
       "      <td>5.0</td>\n",
       "      <td>Simpsons</td>\n",
       "    </tr>\n",
       "    <tr>\n",
       "      <th>9553.0</th>\n",
       "      <td>32.0</td>\n",
       "      <td>213.0</td>\n",
       "      <td>True</td>\n",
       "      <td>Edna Krabappel-Flanders</td>\n",
       "      <td>the polls will be open from now until the end ...</td>\n",
       "      <td>33.0</td>\n",
       "      <td>Simpsons</td>\n",
       "    </tr>\n",
       "  </tbody>\n",
       "</table>\n",
       "</div>"
      ],
      "text/plain": [
       "        episode_id  number speaking_line                character  \\\n",
       "id                                                                  \n",
       "9549.0        32.0   209.0          True              Miss Hoover   \n",
       "9550.0        32.0   210.0          True             Lisa Simpson   \n",
       "9551.0        32.0   211.0          True              Miss Hoover   \n",
       "9552.0        32.0   212.0          True             Lisa Simpson   \n",
       "9553.0        32.0   213.0          True  Edna Krabappel-Flanders   \n",
       "\n",
       "                                                     line  word_count  \\\n",
       "id                                                                      \n",
       "9549.0  no actually it was a little of both sometimes ...        31.0   \n",
       "9550.0                                wheres mr bergstrom         3.0   \n",
       "9551.0  i dont know although id sure like to talk to h...        22.0   \n",
       "9552.0                          that life is worth living         5.0   \n",
       "9553.0  the polls will be open from now until the end ...        33.0   \n",
       "\n",
       "            show  \n",
       "id                \n",
       "9549.0  Simpsons  \n",
       "9550.0  Simpsons  \n",
       "9551.0  Simpsons  \n",
       "9552.0  Simpsons  \n",
       "9553.0  Simpsons  "
      ]
     },
     "execution_count": 425,
     "metadata": {},
     "output_type": "execute_result"
    }
   ],
   "source": [
    "simpsons.head()"
   ]
  },
  {
   "cell_type": "code",
   "execution_count": 430,
   "metadata": {
    "collapsed": true
   },
   "outputs": [],
   "source": [
    "simp_char = [\"Homer Simpson\", \"Marge Simpson\", \"Bart Simpson\", \"Lisa Simpson\"]"
   ]
  },
  {
   "cell_type": "code",
   "execution_count": 448,
   "metadata": {},
   "outputs": [
    {
     "data": {
      "text/html": [
       "<div>\n",
       "<table border=\"1\" class=\"dataframe\">\n",
       "  <thead>\n",
       "    <tr style=\"text-align: right;\">\n",
       "      <th></th>\n",
       "      <th>episode_id</th>\n",
       "      <th>number</th>\n",
       "      <th>speaking_line</th>\n",
       "      <th>line</th>\n",
       "      <th>word_count</th>\n",
       "      <th>show</th>\n",
       "    </tr>\n",
       "    <tr>\n",
       "      <th>character</th>\n",
       "      <th></th>\n",
       "      <th></th>\n",
       "      <th></th>\n",
       "      <th></th>\n",
       "      <th></th>\n",
       "      <th></th>\n",
       "    </tr>\n",
       "  </thead>\n",
       "  <tbody>\n",
       "    <tr>\n",
       "      <th>Homer Simpson</th>\n",
       "      <td>23067</td>\n",
       "      <td>23067</td>\n",
       "      <td>23067</td>\n",
       "      <td>23067</td>\n",
       "      <td>23067</td>\n",
       "      <td>23067</td>\n",
       "    </tr>\n",
       "    <tr>\n",
       "      <th>Marge Simpson</th>\n",
       "      <td>10729</td>\n",
       "      <td>10729</td>\n",
       "      <td>10729</td>\n",
       "      <td>10729</td>\n",
       "      <td>10729</td>\n",
       "      <td>10729</td>\n",
       "    </tr>\n",
       "    <tr>\n",
       "      <th>Bart Simpson</th>\n",
       "      <td>10595</td>\n",
       "      <td>10595</td>\n",
       "      <td>10595</td>\n",
       "      <td>10595</td>\n",
       "      <td>10595</td>\n",
       "      <td>10595</td>\n",
       "    </tr>\n",
       "    <tr>\n",
       "      <th>Lisa Simpson</th>\n",
       "      <td>9051</td>\n",
       "      <td>9051</td>\n",
       "      <td>9051</td>\n",
       "      <td>9051</td>\n",
       "      <td>9051</td>\n",
       "      <td>9051</td>\n",
       "    </tr>\n",
       "    <tr>\n",
       "      <th>C. Montgomery Burns</th>\n",
       "      <td>2490</td>\n",
       "      <td>2490</td>\n",
       "      <td>2490</td>\n",
       "      <td>2490</td>\n",
       "      <td>2490</td>\n",
       "      <td>2490</td>\n",
       "    </tr>\n",
       "  </tbody>\n",
       "</table>\n",
       "</div>"
      ],
      "text/plain": [
       "                     episode_id  number  speaking_line   line  word_count  \\\n",
       "character                                                                   \n",
       "Homer Simpson             23067   23067          23067  23067       23067   \n",
       "Marge Simpson             10729   10729          10729  10729       10729   \n",
       "Bart Simpson              10595   10595          10595  10595       10595   \n",
       "Lisa Simpson               9051    9051           9051   9051        9051   \n",
       "C. Montgomery Burns        2490    2490           2490   2490        2490   \n",
       "\n",
       "                      show  \n",
       "character                   \n",
       "Homer Simpson        23067  \n",
       "Marge Simpson        10729  \n",
       "Bart Simpson         10595  \n",
       "Lisa Simpson          9051  \n",
       "C. Montgomery Burns   2490  "
      ]
     },
     "execution_count": 448,
     "metadata": {},
     "output_type": "execute_result"
    }
   ],
   "source": [
    "simpsons.groupby('character').count().sort_values(by=['line'], ascending=False).head(5)"
   ]
  },
  {
   "cell_type": "code",
   "execution_count": 431,
   "metadata": {
    "collapsed": true
   },
   "outputs": [],
   "source": [
    "simpsons_clean = simpsons[simpsons['character'].isin(simp_char)]"
   ]
  },
  {
   "cell_type": "code",
   "execution_count": 447,
   "metadata": {},
   "outputs": [
    {
     "data": {
      "text/html": [
       "<div>\n",
       "<table border=\"1\" class=\"dataframe\">\n",
       "  <thead>\n",
       "    <tr style=\"text-align: right;\">\n",
       "      <th></th>\n",
       "      <th>episode_id</th>\n",
       "      <th>character</th>\n",
       "      <th>line</th>\n",
       "      <th>show</th>\n",
       "      <th>characters_spoken</th>\n",
       "      <th>words_spoken</th>\n",
       "    </tr>\n",
       "    <tr>\n",
       "      <th>id</th>\n",
       "      <th></th>\n",
       "      <th></th>\n",
       "      <th></th>\n",
       "      <th></th>\n",
       "      <th></th>\n",
       "      <th></th>\n",
       "    </tr>\n",
       "  </thead>\n",
       "  <tbody>\n",
       "    <tr>\n",
       "      <th>9550.0</th>\n",
       "      <td>32.0</td>\n",
       "      <td>Lisa Simpson</td>\n",
       "      <td>wheres mr bergstrom</td>\n",
       "      <td>Simpsons</td>\n",
       "      <td>19</td>\n",
       "      <td>3</td>\n",
       "    </tr>\n",
       "    <tr>\n",
       "      <th>9552.0</th>\n",
       "      <td>32.0</td>\n",
       "      <td>Lisa Simpson</td>\n",
       "      <td>that life is worth living</td>\n",
       "      <td>Simpsons</td>\n",
       "      <td>25</td>\n",
       "      <td>5</td>\n",
       "    </tr>\n",
       "    <tr>\n",
       "      <th>9556.0</th>\n",
       "      <td>32.0</td>\n",
       "      <td>Bart Simpson</td>\n",
       "      <td>victory party under the slide</td>\n",
       "      <td>Simpsons</td>\n",
       "      <td>29</td>\n",
       "      <td>5</td>\n",
       "    </tr>\n",
       "    <tr>\n",
       "      <th>9558.0</th>\n",
       "      <td>32.0</td>\n",
       "      <td>Lisa Simpson</td>\n",
       "      <td>mr bergstrom mr bergstrom</td>\n",
       "      <td>Simpsons</td>\n",
       "      <td>25</td>\n",
       "      <td>4</td>\n",
       "    </tr>\n",
       "    <tr>\n",
       "      <th>9560.0</th>\n",
       "      <td>32.0</td>\n",
       "      <td>Lisa Simpson</td>\n",
       "      <td>do you know where i could find him</td>\n",
       "      <td>Simpsons</td>\n",
       "      <td>34</td>\n",
       "      <td>8</td>\n",
       "    </tr>\n",
       "  </tbody>\n",
       "</table>\n",
       "</div>"
      ],
      "text/plain": [
       "        episode_id     character                                line  \\\n",
       "id                                                                     \n",
       "9550.0        32.0  Lisa Simpson                 wheres mr bergstrom   \n",
       "9552.0        32.0  Lisa Simpson           that life is worth living   \n",
       "9556.0        32.0  Bart Simpson       victory party under the slide   \n",
       "9558.0        32.0  Lisa Simpson           mr bergstrom mr bergstrom   \n",
       "9560.0        32.0  Lisa Simpson  do you know where i could find him   \n",
       "\n",
       "            show  characters_spoken  words_spoken  \n",
       "id                                                 \n",
       "9550.0  Simpsons                 19             3  \n",
       "9552.0  Simpsons                 25             5  \n",
       "9556.0  Simpsons                 29             5  \n",
       "9558.0  Simpsons                 25             4  \n",
       "9560.0  Simpsons                 34             8  "
      ]
     },
     "execution_count": 447,
     "metadata": {},
     "output_type": "execute_result"
    }
   ],
   "source": [
    "simpsons_clean.head()"
   ]
  },
  {
   "cell_type": "code",
   "execution_count": 433,
   "metadata": {
    "collapsed": true
   },
   "outputs": [],
   "source": [
    "# remove superflious columns\n",
    "simpsons_clean = simpsons_clean.drop(['number', 'speaking_line', 'word_count'], 1)"
   ]
  },
  {
   "cell_type": "code",
   "execution_count": 435,
   "metadata": {
    "collapsed": true
   },
   "outputs": [],
   "source": [
    "# Calculate characters used and words used per line\n",
    "simpsons_clean['characters_spoken'] = simpsons_clean.line.apply(calculate_character_length)\n",
    "simpsons_clean['words_spoken'] = simpsons_clean.line.apply(word_count)"
   ]
  },
  {
   "cell_type": "code",
   "execution_count": 442,
   "metadata": {},
   "outputs": [
    {
     "data": {
      "text/html": [
       "<div>\n",
       "<table border=\"1\" class=\"dataframe\">\n",
       "  <thead>\n",
       "    <tr style=\"text-align: right;\">\n",
       "      <th></th>\n",
       "      <th>episode_id</th>\n",
       "      <th>character</th>\n",
       "      <th>line</th>\n",
       "      <th>show</th>\n",
       "      <th>characters_spoken</th>\n",
       "      <th>words_spoken</th>\n",
       "    </tr>\n",
       "    <tr>\n",
       "      <th>id</th>\n",
       "      <th></th>\n",
       "      <th></th>\n",
       "      <th></th>\n",
       "      <th></th>\n",
       "      <th></th>\n",
       "      <th></th>\n",
       "    </tr>\n",
       "  </thead>\n",
       "  <tbody>\n",
       "    <tr>\n",
       "      <th>9550.0</th>\n",
       "      <td>32.0</td>\n",
       "      <td>Lisa Simpson</td>\n",
       "      <td>wheres mr bergstrom</td>\n",
       "      <td>Simpsons</td>\n",
       "      <td>19</td>\n",
       "      <td>3</td>\n",
       "    </tr>\n",
       "    <tr>\n",
       "      <th>9552.0</th>\n",
       "      <td>32.0</td>\n",
       "      <td>Lisa Simpson</td>\n",
       "      <td>that life is worth living</td>\n",
       "      <td>Simpsons</td>\n",
       "      <td>25</td>\n",
       "      <td>5</td>\n",
       "    </tr>\n",
       "    <tr>\n",
       "      <th>9556.0</th>\n",
       "      <td>32.0</td>\n",
       "      <td>Bart Simpson</td>\n",
       "      <td>victory party under the slide</td>\n",
       "      <td>Simpsons</td>\n",
       "      <td>29</td>\n",
       "      <td>5</td>\n",
       "    </tr>\n",
       "    <tr>\n",
       "      <th>9558.0</th>\n",
       "      <td>32.0</td>\n",
       "      <td>Lisa Simpson</td>\n",
       "      <td>mr bergstrom mr bergstrom</td>\n",
       "      <td>Simpsons</td>\n",
       "      <td>25</td>\n",
       "      <td>4</td>\n",
       "    </tr>\n",
       "    <tr>\n",
       "      <th>9560.0</th>\n",
       "      <td>32.0</td>\n",
       "      <td>Lisa Simpson</td>\n",
       "      <td>do you know where i could find him</td>\n",
       "      <td>Simpsons</td>\n",
       "      <td>34</td>\n",
       "      <td>8</td>\n",
       "    </tr>\n",
       "  </tbody>\n",
       "</table>\n",
       "</div>"
      ],
      "text/plain": [
       "        episode_id     character                                line  \\\n",
       "id                                                                     \n",
       "9550.0        32.0  Lisa Simpson                 wheres mr bergstrom   \n",
       "9552.0        32.0  Lisa Simpson           that life is worth living   \n",
       "9556.0        32.0  Bart Simpson       victory party under the slide   \n",
       "9558.0        32.0  Lisa Simpson           mr bergstrom mr bergstrom   \n",
       "9560.0        32.0  Lisa Simpson  do you know where i could find him   \n",
       "\n",
       "            show  characters_spoken  words_spoken  \n",
       "id                                                 \n",
       "9550.0  Simpsons                 19             3  \n",
       "9552.0  Simpsons                 25             5  \n",
       "9556.0  Simpsons                 29             5  \n",
       "9558.0  Simpsons                 25             4  \n",
       "9560.0  Simpsons                 34             8  "
      ]
     },
     "execution_count": 442,
     "metadata": {},
     "output_type": "execute_result"
    }
   ],
   "source": [
    "simpsons_clean.head()"
   ]
  },
  {
   "cell_type": "code",
   "execution_count": 440,
   "metadata": {},
   "outputs": [],
   "source": [
    "simpsons_clean.to_csv(\"simpsons-clean-transcript.csv\")"
   ]
  },
  {
   "cell_type": "markdown",
   "metadata": {},
   "source": [
    "# Seinfield Data Scrubbing"
   ]
  },
  {
   "cell_type": "code",
   "execution_count": 443,
   "metadata": {
    "collapsed": true
   },
   "outputs": [],
   "source": [
    "seinfeld_path = \"../data/seinfeld-transcript.csv\"\n",
    "snfld = pd.read_csv(seinfeld_path, index_col=0)\n",
    "snfld['show'] = \"Seinfeld\";\n",
    "# Remove NA values\n",
    "snfld = snfld.dropna()"
   ]
  },
  {
   "cell_type": "code",
   "execution_count": 444,
   "metadata": {},
   "outputs": [
    {
     "data": {
      "text/html": [
       "<div>\n",
       "<table border=\"1\" class=\"dataframe\">\n",
       "  <thead>\n",
       "    <tr style=\"text-align: right;\">\n",
       "      <th></th>\n",
       "      <th>character</th>\n",
       "      <th>episode</th>\n",
       "      <th>line</th>\n",
       "      <th>season</th>\n",
       "      <th>show</th>\n",
       "    </tr>\n",
       "    <tr>\n",
       "      <th>index</th>\n",
       "      <th></th>\n",
       "      <th></th>\n",
       "      <th></th>\n",
       "      <th></th>\n",
       "      <th></th>\n",
       "    </tr>\n",
       "  </thead>\n",
       "  <tbody>\n",
       "    <tr>\n",
       "      <th>0</th>\n",
       "      <td>\\r\\r\\r&lt;!--\\rgoogle_ad_client = \"ca-pub-4355410...</td>\n",
       "      <td>1</td>\n",
       "      <td>Comedy club]</td>\n",
       "      <td>1</td>\n",
       "      <td>Seinfeld</td>\n",
       "    </tr>\n",
       "    <tr>\n",
       "      <th>1</th>\n",
       "      <td>[Scene</td>\n",
       "      <td>1</td>\n",
       "      <td>Pete's luncheonette. Jerry and George are sit...</td>\n",
       "      <td>1</td>\n",
       "      <td>Seinfeld</td>\n",
       "    </tr>\n",
       "    <tr>\n",
       "      <th>2</th>\n",
       "      <td>GEORGE</td>\n",
       "      <td>1</td>\n",
       "      <td>Are you through? [kind of irritated]</td>\n",
       "      <td>1</td>\n",
       "      <td>Seinfeld</td>\n",
       "    </tr>\n",
       "    <tr>\n",
       "      <th>3</th>\n",
       "      <td>JERRY</td>\n",
       "      <td>1</td>\n",
       "      <td>You do of course try on, when you buy?</td>\n",
       "      <td>1</td>\n",
       "      <td>Seinfeld</td>\n",
       "    </tr>\n",
       "    <tr>\n",
       "      <th>4</th>\n",
       "      <td>GEORGE</td>\n",
       "      <td>1</td>\n",
       "      <td>Yes, it was purple, I liked it, I don't actua...</td>\n",
       "      <td>1</td>\n",
       "      <td>Seinfeld</td>\n",
       "    </tr>\n",
       "  </tbody>\n",
       "</table>\n",
       "</div>"
      ],
      "text/plain": [
       "                                               character  episode  \\\n",
       "index                                                               \n",
       "0      \\r\\r\\r<!--\\rgoogle_ad_client = \"ca-pub-4355410...        1   \n",
       "1                                                 [Scene        1   \n",
       "2                                                 GEORGE        1   \n",
       "3                                                  JERRY        1   \n",
       "4                                                 GEORGE        1   \n",
       "\n",
       "                                                    line  season      show  \n",
       "index                                                                       \n",
       "0                                           Comedy club]       1  Seinfeld  \n",
       "1       Pete's luncheonette. Jerry and George are sit...       1  Seinfeld  \n",
       "2                   Are you through? [kind of irritated]       1  Seinfeld  \n",
       "3                 You do of course try on, when you buy?       1  Seinfeld  \n",
       "4       Yes, it was purple, I liked it, I don't actua...       1  Seinfeld  "
      ]
     },
     "execution_count": 444,
     "metadata": {},
     "output_type": "execute_result"
    }
   ],
   "source": [
    "snfld.head()"
   ]
  },
  {
   "cell_type": "code",
   "execution_count": 454,
   "metadata": {
    "collapsed": true
   },
   "outputs": [],
   "source": [
    "# Remove odd formatting\n",
    "snfld['character'] = snfld.character.apply(remove_stage_directives)\n",
    "snfld['character'] = snfld.character.apply(remove_html_formatting)\n",
    "snfld['line'] = snfld.line.apply(remove_stage_directives)\n",
    "snfld['line'] = snfld.line.apply(remove_html_formatting)"
   ]
  },
  {
   "cell_type": "code",
   "execution_count": 457,
   "metadata": {},
   "outputs": [
    {
     "data": {
      "text/html": [
       "<div>\n",
       "<table border=\"1\" class=\"dataframe\">\n",
       "  <thead>\n",
       "    <tr style=\"text-align: right;\">\n",
       "      <th></th>\n",
       "      <th>character</th>\n",
       "      <th>episode</th>\n",
       "      <th>line</th>\n",
       "      <th>season</th>\n",
       "      <th>show</th>\n",
       "    </tr>\n",
       "    <tr>\n",
       "      <th>index</th>\n",
       "      <th></th>\n",
       "      <th></th>\n",
       "      <th></th>\n",
       "      <th></th>\n",
       "      <th></th>\n",
       "    </tr>\n",
       "  </thead>\n",
       "  <tbody>\n",
       "    <tr>\n",
       "      <th>0</th>\n",
       "      <td>\\r\\r\\r&lt;!--\\rgoogle_ad_client = \"ca-pub-4355410...</td>\n",
       "      <td>1</td>\n",
       "      <td>Comedy club]</td>\n",
       "      <td>1</td>\n",
       "      <td>Seinfeld</td>\n",
       "    </tr>\n",
       "    <tr>\n",
       "      <th>1</th>\n",
       "      <td>[Scene</td>\n",
       "      <td>1</td>\n",
       "      <td>Pete's luncheonette. Jerry and George are sit...</td>\n",
       "      <td>1</td>\n",
       "      <td>Seinfeld</td>\n",
       "    </tr>\n",
       "    <tr>\n",
       "      <th>2</th>\n",
       "      <td>GEORGE</td>\n",
       "      <td>1</td>\n",
       "      <td>Are you through?</td>\n",
       "      <td>1</td>\n",
       "      <td>Seinfeld</td>\n",
       "    </tr>\n",
       "    <tr>\n",
       "      <th>3</th>\n",
       "      <td>JERRY</td>\n",
       "      <td>1</td>\n",
       "      <td>You do of course try on, when you buy?</td>\n",
       "      <td>1</td>\n",
       "      <td>Seinfeld</td>\n",
       "    </tr>\n",
       "    <tr>\n",
       "      <th>4</th>\n",
       "      <td>GEORGE</td>\n",
       "      <td>1</td>\n",
       "      <td>Yes, it was purple, I liked it, I don't actua...</td>\n",
       "      <td>1</td>\n",
       "      <td>Seinfeld</td>\n",
       "    </tr>\n",
       "  </tbody>\n",
       "</table>\n",
       "</div>"
      ],
      "text/plain": [
       "                                               character  episode  \\\n",
       "index                                                               \n",
       "0      \\r\\r\\r<!--\\rgoogle_ad_client = \"ca-pub-4355410...        1   \n",
       "1                                                 [Scene        1   \n",
       "2                                                 GEORGE        1   \n",
       "3                                                  JERRY        1   \n",
       "4                                                 GEORGE        1   \n",
       "\n",
       "                                                    line  season      show  \n",
       "index                                                                       \n",
       "0                                           Comedy club]       1  Seinfeld  \n",
       "1       Pete's luncheonette. Jerry and George are sit...       1  Seinfeld  \n",
       "2                                      Are you through?        1  Seinfeld  \n",
       "3                 You do of course try on, when you buy?       1  Seinfeld  \n",
       "4       Yes, it was purple, I liked it, I don't actua...       1  Seinfeld  "
      ]
     },
     "execution_count": 457,
     "metadata": {},
     "output_type": "execute_result"
    }
   ],
   "source": [
    "snfld.head()"
   ]
  },
  {
   "cell_type": "code",
   "execution_count": 459,
   "metadata": {},
   "outputs": [
    {
     "data": {
      "text/plain": [
       "1.0"
      ]
     },
     "execution_count": 459,
     "metadata": {},
     "output_type": "execute_result"
    }
   ],
   "source": []
  },
  {
   "cell_type": "code",
   "execution_count": null,
   "metadata": {
    "collapsed": true
   },
   "outputs": [],
   "source": [
    "rick_n_morty = rick_n_morty[rick_n_morty.line.notnull()]"
   ]
  },
  {
   "cell_type": "code",
   "execution_count": 466,
   "metadata": {},
   "outputs": [
    {
     "data": {
      "text/html": [
       "<div>\n",
       "<table border=\"1\" class=\"dataframe\">\n",
       "  <thead>\n",
       "    <tr style=\"text-align: right;\">\n",
       "      <th></th>\n",
       "      <th>episode</th>\n",
       "      <th>line</th>\n",
       "      <th>season</th>\n",
       "      <th>show</th>\n",
       "    </tr>\n",
       "    <tr>\n",
       "      <th>character</th>\n",
       "      <th></th>\n",
       "      <th></th>\n",
       "      <th></th>\n",
       "      <th></th>\n",
       "    </tr>\n",
       "  </thead>\n",
       "  <tbody>\n",
       "    <tr>\n",
       "      <th>Jerry</th>\n",
       "      <td>9350</td>\n",
       "      <td>9350</td>\n",
       "      <td>9350</td>\n",
       "      <td>9350</td>\n",
       "    </tr>\n",
       "    <tr>\n",
       "      <th>George</th>\n",
       "      <td>6255</td>\n",
       "      <td>6255</td>\n",
       "      <td>6255</td>\n",
       "      <td>6255</td>\n",
       "    </tr>\n",
       "    <tr>\n",
       "      <th>Elaine</th>\n",
       "      <td>5015</td>\n",
       "      <td>5015</td>\n",
       "      <td>5015</td>\n",
       "      <td>5015</td>\n",
       "    </tr>\n",
       "    <tr>\n",
       "      <th>Kramer</th>\n",
       "      <td>4145</td>\n",
       "      <td>4145</td>\n",
       "      <td>4145</td>\n",
       "      <td>4145</td>\n",
       "    </tr>\n",
       "  </tbody>\n",
       "</table>\n",
       "</div>"
      ],
      "text/plain": [
       "           episode  line  season  show\n",
       "character                             \n",
       "Jerry         9350  9350    9350  9350\n",
       "George        6255  6255    6255  6255\n",
       "Elaine        5015  5015    5015  5015\n",
       "Kramer        4145  4145    4145  4145"
      ]
     },
     "execution_count": 466,
     "metadata": {},
     "output_type": "execute_result"
    }
   ],
   "source": [
    "snfld.groupby('character').count().sort_values(by=['line'], ascending=False).head(4)"
   ]
  },
  {
   "cell_type": "code",
   "execution_count": 464,
   "metadata": {},
   "outputs": [
    {
     "data": {
      "text/html": [
       "<div>\n",
       "<table border=\"1\" class=\"dataframe\">\n",
       "  <thead>\n",
       "    <tr style=\"text-align: right;\">\n",
       "      <th></th>\n",
       "      <th>episode</th>\n",
       "      <th>line</th>\n",
       "      <th>season</th>\n",
       "      <th>show</th>\n",
       "    </tr>\n",
       "    <tr>\n",
       "      <th>character</th>\n",
       "      <th></th>\n",
       "      <th></th>\n",
       "      <th></th>\n",
       "      <th></th>\n",
       "    </tr>\n",
       "  </thead>\n",
       "  <tbody>\n",
       "    <tr>\n",
       "      <th>Jerry</th>\n",
       "      <td>9350</td>\n",
       "      <td>9350</td>\n",
       "      <td>9350</td>\n",
       "      <td>9350</td>\n",
       "    </tr>\n",
       "    <tr>\n",
       "      <th>George</th>\n",
       "      <td>6255</td>\n",
       "      <td>6255</td>\n",
       "      <td>6255</td>\n",
       "      <td>6255</td>\n",
       "    </tr>\n",
       "    <tr>\n",
       "      <th>Elaine</th>\n",
       "      <td>5015</td>\n",
       "      <td>5015</td>\n",
       "      <td>5015</td>\n",
       "      <td>5015</td>\n",
       "    </tr>\n",
       "    <tr>\n",
       "      <th>Kramer</th>\n",
       "      <td>4145</td>\n",
       "      <td>4145</td>\n",
       "      <td>4145</td>\n",
       "      <td>4145</td>\n",
       "    </tr>\n",
       "    <tr>\n",
       "      <th>[Setting</th>\n",
       "      <td>297</td>\n",
       "      <td>297</td>\n",
       "      <td>297</td>\n",
       "      <td>297</td>\n",
       "    </tr>\n",
       "  </tbody>\n",
       "</table>\n",
       "</div>"
      ],
      "text/plain": [
       "           episode  line  season  show\n",
       "character                             \n",
       "Jerry         9350  9350    9350  9350\n",
       "George        6255  6255    6255  6255\n",
       "Elaine        5015  5015    5015  5015\n",
       "Kramer        4145  4145    4145  4145\n",
       "[Setting       297   297     297   297"
      ]
     },
     "execution_count": 464,
     "metadata": {},
     "output_type": "execute_result"
    }
   ],
   "source": [
    "# Some transcripts had all caps for names\n",
    "snfld.loc[snfld['character'] == 'JERRY', 'character'] = 'Jerry'\n",
    "snfld.loc[snfld['character'] == 'GEORGE', 'character'] = 'George'\n",
    "snfld.loc[snfld['character'] == 'ELAINE', 'character'] = 'Elaine'\n",
    "snfld.loc[snfld['character'] == 'KRAMER', 'character'] = 'Kramer'\n",
    "snfld.loc[snfld['character'] == 'NEWMAN ', 'character'] = 'Newman'\n",
    "\n",
    "# Print to see result\n",
    "snfld.groupby('character').count().sort_values(by=['line'], ascending=False).head(5)"
   ]
  },
  {
   "cell_type": "code",
   "execution_count": 465,
   "metadata": {
    "collapsed": true
   },
   "outputs": [],
   "source": [
    "# Seinfeld character array\n",
    "snfld_list = [\"Jerry\", \"George\", \"Elaine\", \"Kramer\", \"Newman\"]"
   ]
  },
  {
   "cell_type": "code",
   "execution_count": 481,
   "metadata": {
    "collapsed": true
   },
   "outputs": [],
   "source": [
    "# only save lines from main characters\n",
    "snfld_clean = snfld[snfld['character'].isin(snfld_list)]"
   ]
  },
  {
   "cell_type": "code",
   "execution_count": 476,
   "metadata": {},
   "outputs": [],
   "source": [
    "# Calculate characters used and words used per line\n",
    "snfld_clean['characters_spoken'] = snfld_clean.line.apply(calculate_character_length)\n",
    "snfld_clean['words_spoken'] = snfld_clean.line.apply(word_count)"
   ]
  },
  {
   "cell_type": "code",
   "execution_count": 479,
   "metadata": {},
   "outputs": [
    {
     "data": {
      "text/html": [
       "<div>\n",
       "<table border=\"1\" class=\"dataframe\">\n",
       "  <thead>\n",
       "    <tr style=\"text-align: right;\">\n",
       "      <th></th>\n",
       "      <th>character</th>\n",
       "      <th>episode</th>\n",
       "      <th>line</th>\n",
       "      <th>season</th>\n",
       "      <th>show</th>\n",
       "      <th>characters_spoken</th>\n",
       "      <th>words_spoken</th>\n",
       "    </tr>\n",
       "    <tr>\n",
       "      <th>index</th>\n",
       "      <th></th>\n",
       "      <th></th>\n",
       "      <th></th>\n",
       "      <th></th>\n",
       "      <th></th>\n",
       "      <th></th>\n",
       "      <th></th>\n",
       "    </tr>\n",
       "  </thead>\n",
       "  <tbody>\n",
       "    <tr>\n",
       "      <th>2</th>\n",
       "      <td>George</td>\n",
       "      <td>1</td>\n",
       "      <td>Are you through?</td>\n",
       "      <td>1</td>\n",
       "      <td>Seinfeld</td>\n",
       "      <td>18</td>\n",
       "      <td>3</td>\n",
       "    </tr>\n",
       "    <tr>\n",
       "      <th>3</th>\n",
       "      <td>Jerry</td>\n",
       "      <td>1</td>\n",
       "      <td>You do of course try on, when you buy?</td>\n",
       "      <td>1</td>\n",
       "      <td>Seinfeld</td>\n",
       "      <td>39</td>\n",
       "      <td>9</td>\n",
       "    </tr>\n",
       "    <tr>\n",
       "      <th>4</th>\n",
       "      <td>George</td>\n",
       "      <td>1</td>\n",
       "      <td>Yes, it was purple, I liked it, I don't actua...</td>\n",
       "      <td>1</td>\n",
       "      <td>Seinfeld</td>\n",
       "      <td>96</td>\n",
       "      <td>14</td>\n",
       "    </tr>\n",
       "    <tr>\n",
       "      <th>5</th>\n",
       "      <td>Jerry</td>\n",
       "      <td>1</td>\n",
       "      <td>Oh, you don't recall?</td>\n",
       "      <td>1</td>\n",
       "      <td>Seinfeld</td>\n",
       "      <td>22</td>\n",
       "      <td>4</td>\n",
       "    </tr>\n",
       "    <tr>\n",
       "      <th>6</th>\n",
       "      <td>George</td>\n",
       "      <td>1</td>\n",
       "      <td>Uh, no, not at \\r              this time.</td>\n",
       "      <td>1</td>\n",
       "      <td>Seinfeld</td>\n",
       "      <td>42</td>\n",
       "      <td>6</td>\n",
       "    </tr>\n",
       "  </tbody>\n",
       "</table>\n",
       "</div>"
      ],
      "text/plain": [
       "      character  episode                                               line  \\\n",
       "index                                                                         \n",
       "2        George        1                                  Are you through?    \n",
       "3         Jerry        1             You do of course try on, when you buy?   \n",
       "4        George        1   Yes, it was purple, I liked it, I don't actua...   \n",
       "5         Jerry        1                              Oh, you don't recall?   \n",
       "6        George        1          Uh, no, not at \\r              this time.   \n",
       "\n",
       "       season      show  characters_spoken  words_spoken  \n",
       "index                                                     \n",
       "2           1  Seinfeld                 18             3  \n",
       "3           1  Seinfeld                 39             9  \n",
       "4           1  Seinfeld                 96            14  \n",
       "5           1  Seinfeld                 22             4  \n",
       "6           1  Seinfeld                 42             6  "
      ]
     },
     "execution_count": 479,
     "metadata": {},
     "output_type": "execute_result"
    }
   ],
   "source": [
    "snfld_clean.head()"
   ]
  },
  {
   "cell_type": "code",
   "execution_count": 480,
   "metadata": {
    "collapsed": true
   },
   "outputs": [],
   "source": [
    "snfld_clean.to_csv(\"seinfeld-clean-transcript.csv\")"
   ]
  },
  {
   "cell_type": "markdown",
   "metadata": {},
   "source": [
    "# Friends Datascraping"
   ]
  },
  {
   "cell_type": "code",
   "execution_count": 501,
   "metadata": {
    "collapsed": true
   },
   "outputs": [],
   "source": [
    "# import Friends dataset\n",
    "frnds_path = '../data/friends-transcript.csv'\n",
    "frnds = pd.read_csv(frnds_path, index_col=0)\n",
    "frnds['show'] = \"Friends\";\n",
    "# Remove NA values\n",
    "frnds = frnds.dropna()"
   ]
  },
  {
   "cell_type": "code",
   "execution_count": 502,
   "metadata": {},
   "outputs": [
    {
     "data": {
      "text/html": [
       "<div>\n",
       "<table border=\"1\" class=\"dataframe\">\n",
       "  <thead>\n",
       "    <tr style=\"text-align: right;\">\n",
       "      <th></th>\n",
       "      <th>character</th>\n",
       "      <th>episode</th>\n",
       "      <th>line</th>\n",
       "      <th>season</th>\n",
       "      <th>show</th>\n",
       "    </tr>\n",
       "    <tr>\n",
       "      <th>index</th>\n",
       "      <th></th>\n",
       "      <th></th>\n",
       "      <th></th>\n",
       "      <th></th>\n",
       "      <th></th>\n",
       "    </tr>\n",
       "  </thead>\n",
       "  <tbody>\n",
       "    <tr>\n",
       "      <th>0</th>\n",
       "      <td>Monica</td>\n",
       "      <td>1</td>\n",
       "      <td>There's nothing to tell! He's just some guy\\r...</td>\n",
       "      <td>1</td>\n",
       "      <td>Friends</td>\n",
       "    </tr>\n",
       "    <tr>\n",
       "      <th>1</th>\n",
       "      <td>Joey</td>\n",
       "      <td>1</td>\n",
       "      <td>C'mon, you're going out with the guy! There's...</td>\n",
       "      <td>1</td>\n",
       "      <td>Friends</td>\n",
       "    </tr>\n",
       "    <tr>\n",
       "      <th>2</th>\n",
       "      <td>Chandler</td>\n",
       "      <td>1</td>\n",
       "      <td>All right Joey, be\\rnice.�� So does he have a...</td>\n",
       "      <td>1</td>\n",
       "      <td>Friends</td>\n",
       "    </tr>\n",
       "    <tr>\n",
       "      <th>3</th>\n",
       "      <td>Phoebe</td>\n",
       "      <td>1</td>\n",
       "      <td>Wait, does he eat chalk?</td>\n",
       "      <td>1</td>\n",
       "      <td>Friends</td>\n",
       "    </tr>\n",
       "    <tr>\n",
       "      <th>4</th>\n",
       "      <td>Phoebe</td>\n",
       "      <td>1</td>\n",
       "      <td>Just, 'cause, I don't want her to go through\\...</td>\n",
       "      <td>1</td>\n",
       "      <td>Friends</td>\n",
       "    </tr>\n",
       "  </tbody>\n",
       "</table>\n",
       "</div>"
      ],
      "text/plain": [
       "      character  episode                                               line  \\\n",
       "index                                                                         \n",
       "0        Monica        1   There's nothing to tell! He's just some guy\\r...   \n",
       "1          Joey        1   C'mon, you're going out with the guy! There's...   \n",
       "2      Chandler        1   All right Joey, be\\rnice.�� So does he have a...   \n",
       "3        Phoebe        1                           Wait, does he eat chalk?   \n",
       "4        Phoebe        1   Just, 'cause, I don't want her to go through\\...   \n",
       "\n",
       "       season     show  \n",
       "index                   \n",
       "0           1  Friends  \n",
       "1           1  Friends  \n",
       "2           1  Friends  \n",
       "3           1  Friends  \n",
       "4           1  Friends  "
      ]
     },
     "execution_count": 502,
     "metadata": {},
     "output_type": "execute_result"
    }
   ],
   "source": [
    "frnds.head()"
   ]
  },
  {
   "cell_type": "code",
   "execution_count": 507,
   "metadata": {},
   "outputs": [
    {
     "name": "stdout",
     "output_type": "stream",
     "text": [
      "1.5857629776\n"
     ]
    }
   ],
   "source": [
    "# Remove odd formatting\n",
    "\n",
    "start = time.time()\n",
    "frnds['character'] = frnds.character.apply(remove_stage_directives)\n",
    "frnds['character'] = frnds.character.apply(remove_html_formatting)\n",
    "frnds['line'] = frnds.line.apply(remove_stage_directives)\n",
    "frnds['line'] = frnds.line.apply(remove_html_formatting)\n",
    "end = time.time()\n",
    "print(end - start)"
   ]
  },
  {
   "cell_type": "code",
   "execution_count": 499,
   "metadata": {},
   "outputs": [
    {
     "data": {
      "text/plain": [
       "' Fine! Be murky!'"
      ]
     },
     "execution_count": 499,
     "metadata": {},
     "output_type": "execute_result"
    }
   ],
   "source": [
    "frnds.loc[28].line"
   ]
  },
  {
   "cell_type": "code",
   "execution_count": null,
   "metadata": {
    "collapsed": true
   },
   "outputs": [],
   "source": []
  },
  {
   "cell_type": "code",
   "execution_count": null,
   "metadata": {
    "collapsed": true
   },
   "outputs": [],
   "source": []
  }
 ],
 "metadata": {
  "kernelspec": {
   "display_name": "Python 2",
   "language": "python",
   "name": "python2"
  },
  "language_info": {
   "codemirror_mode": {
    "name": "ipython",
    "version": 2
   },
   "file_extension": ".py",
   "mimetype": "text/x-python",
   "name": "python",
   "nbconvert_exporter": "python",
   "pygments_lexer": "ipython2",
   "version": "2.7.13"
  }
 },
 "nbformat": 4,
 "nbformat_minor": 2
}
