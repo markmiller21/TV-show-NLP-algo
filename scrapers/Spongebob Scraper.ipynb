{
 "cells": [
  {
   "cell_type": "code",
   "execution_count": 34,
   "metadata": {
    "collapsed": true
   },
   "outputs": [],
   "source": [
    "import requests\n",
    "import time #this will prevent us from DDOSing their systems\n",
    "import pandas as pd\n",
    "import json\n",
    "import random\n",
    "from bs4 import BeautifulSoup"
   ]
  },
  {
   "cell_type": "code",
   "execution_count": 35,
   "metadata": {
    "collapsed": true
   },
   "outputs": [],
   "source": [
    "spongeBob_array = [[\"/wiki/Reef_Blower_(transcript)\", 1, 1], [\"/wiki/Bubblestand_(transcript)\", 2, 1],  [\"/wiki/Jellyfishing_(transcript)\", 3, 1],  [\"/wiki/Naughty_Nautical_Neighbors_(transcript)\", 4, 1],  [\"/wiki/Pizza_Delivery_(transcript)\", 5, 1],  [\"/wiki/Mermaid_Man_and_Barnacle_Boy_(transcript)\", 6, 1],  [\"/wiki/Hall_Monitor_(transcript)\", 7, 1],  [\"/wiki/Sandy's_Rocket_(transcript)\", 8, 1],  [\"/wiki/Nature_Pants_(transcript)\", 9, 1],  [\"/wiki/Culture_Shock_(transcript)\", 10, 1],  [\"/wiki/MuscleBob_BuffPants_(transcript)\", 11, 1],  [\"/wiki/The_Chaperone_(transcript)\", 12, 1],  [\"/wiki/Scaredy_Pants_(transcript)\", 13, 1],  [\"/wiki/SB-129_(transcript)\", 14, 1],  [\"/wiki/Sleepy_Time_(transcript)\", 15, 1],  [\"/wiki/Valentine's_Day_(transcript)\", 16, 1],  [\"/wiki/Arrgh!_(transcript)\", 17, 1],  [\"/wiki/Texas_(transcript)\", 18, 1],  [\"/wiki/Fools_in_April_(transcript)\", 19, 1],  [\"/wiki/Hooky_(transcript)\", 20, 1],  [\"/wiki/Your_Shoe's_Untied_(transcript)\", 21, 2], [\"/wiki/Something_Smells_(transcript)\", 22, 2], [\"/wiki/Big_Pink_Loser_(transcript)\", 23, 2], [\"/wiki/Dying_for_Pie_(transcript)\", 24, 2], [\"/wiki/Wormy_(transcript)\", 25, 2], [\"/wiki/Grandma's_Kisses_(transcript)\", 26, 2], [\"/wiki/Prehibernation_Week_(transcript)\", 27, 2], [\"/wiki/Christmas_Who_(transcript)\", 28, 2], [\"/wiki/Survival_of_the_Idiots_(transcript)\", 29, 2], [\"/wiki/No_Free_Rides_(transcript)\", 30, 2], [\"/wiki/Mermaid_Man_and_Barnacle_Boy_III_(transcript)\", 31, 2], [\"/wiki/Pressure_(transcript)\", 32, 2], [\"/wiki/Shanghaied_(transcript)\", 33, 2], [\"/wiki/Welcome_to_the_Chum_Bucket_(transcript)\", 34, 2], [\"/wiki/The_Secret_Box_(transcript)\", 35, 2], [\"/wiki/Graveyard_Shift_(transcript)\", 36, 2], [\"/wiki/Procrastination_(transcript)\", 37, 2], [\"/wiki/Sailor_Mouth_(transcript)\", 38, 2], [\"/wiki/Jellyfish_Hunter_(transcript)\", 39, 2], [\"/wiki/Squid_on_Strike_(transcript)\", 40, 2], [\"/wiki/The_Algae's_Always_Greener_(transcript)\", 41, 3], [\"/wiki/Club_SpongeBob_(transcript)\", 42, 3], [\"/wiki/Just_One_Bite_(transcript)\", 43, 3], [\"/wiki/Nasty_Patty_(transcript)\", 44, 3], [\"/wiki/Mermaid_Man_and_Barnacle_Boy_IV_(transcript)\", 45, 3], [\"/wiki/Snowball_Effect_(transcript)\", 46, 3], [\"/wiki/As_Seen_on_TV_(transcript)\", 47, 3], [\"/wiki/No_Weenies_Allowed_(transcript)\", 48, 3], [\"/wiki/Krab_Borg_(transcript)\", 49, 3], [\"/wiki/Wet_Painters_(transcript)\", 50, 3], [\"/wiki/Party_Pooper_Pants_(transcript)\", 51, 3], [\"/wiki/Chocolate_with_Nuts_(transcript)\", 52, 3], [\"/wiki/New_Student_Starfish_(transcript)\", 53, 3], [\"/wiki/Ugh_(transcript)\", 54, 3], [\"/wiki/The_Great_Snail_Race_(transcript)\", 55, 3], [\"/wiki/Born_Again_Krabs_(transcript)\", 56, 3], [\"/wiki/Krabby_Land_(transcript)\", 57, 3], [\"/wiki/Missing_Identity_(transcript)\", 58, 3], [\"/wiki/The_Sponge_Who_Could_Fly_(transcript)\", 59, 3], [\"/wiki/SpongeBob_Meets_the_Strangler_(transcript)\", 60, 3], [\"/wiki/Fear_of_a_Krabby_Patty_(transcript)\", 61, 4], [\"/wiki/The_Lost_Mattress_(transcript)\", 62, 4], [\"/wiki/Have_You_Seen_This_Snail_(transcript)\", 63, 4], [\"/wiki/Skill_Crane_(transcript)\", 64, 4], [\"/wiki/Selling_Out_(transcript)\", 65, 4], [\"/wiki/Dunces_and_Dragons_(transcript)\", 66, 4], [\"/wiki/Enemy_In-Law_(transcript)\", 67, 4], [\"/wiki/Patrick_SmartPants_(transcript)\", 68, 4], [\"/wiki/Krusty_Towers_(transcript)\", 69, 4], [\"/wiki/Ghost_Host_(transcript)\", 70, 4], [\"/wiki/Whale_of_a_Birthday_(transcript)\", 71, 4], [\"/wiki/All_That_Glitters_(transcript)\", 72, 4], [\"/wiki/New_Leaf_(transcript)\", 73, 4], [\"/wiki/Bummer_Vacation_(transcript)\", 74, 4], [\"/wiki/Squidtastic_Voyage_(transcript)\", 75, 4], [\"/wiki/The_Thing_(transcript)\", 76, 4], [\"/wiki/Driven_to_Tears_(transcript)\", 77, 4], [\"/wiki/Born_to_Be_Wild_(transcript)\", 78, 4], [\"/wiki/The_Pink_Purloiner_(transcript)\", 79, 4], [\"/wiki/Best_Day_Ever_(transcript)\", 80, 4], [\"/wiki/Friend_or_Foe_(transcript)\", 81, 5], [\"/wiki/The_Original_Fry_Cook_(transcript)\", 82, 5], [\"/wiki/Rise_and_Shine_(transcript)\", 83, 5], [\"/wiki/Spy_Buddies_(transcript)\", 84, 5], [\"/wiki/New_Digs_(transcript)\", 85, 5], [\"/wiki/Roller_Cowards_(transcript)\", 86, 5], [\"/wiki/To_Love_a_Patty_(transcript)\", 87, 5], [\"/wiki/Money_Talks_(transcript)\", 88, 5], [\"/wiki/The_Krusty_Sponge_(transcript)\", 89, 5], [\"/wiki/A_Flea_in_Her_Dome_(transcript)\", 90, 5], [\"/wiki/Goo_Goo_Gas_(transcript)\", 91, 5], [\"/wiki/Atlantis_SquarePantis_(transcript)\", 92, 5], [\"/wiki/Picture_Day_(transcript)\", 93, 5], [\"/wiki/Blackened_Sponge_(transcript)\", 94, 5], [\"/wiki/The_Inmates_of_Summer_(transcript)\", 95, 5], [\"/wiki/Pest_of_the_West_(transcript)\", 96, 5], [\"/wiki/20,000_Patties_Under_the_Sea_(transcript)\", 97, 5], [\"/wiki/What_Ever_Happened_to_SpongeBob_(transcript)\", 98, 5], [\"/wiki/The_Two_Faces_of_Squidward_(transcript)\", 99, 5], [\"/wiki/Banned_in_Bikini_Bottom_(transcript)\", 10, 5], [\"/wiki/House_Fancy_(transcript)\", 101, 6], [\"/wiki/Penny_Foolish_(transcript)\", 102, 6], [\"/wiki/Spongicus_(transcript)\", 103, 6], [\"/wiki/Not_Normal_(transcript)\", 104, 6], [\"/wiki/The_Splinter_(transcript)\", 105, 6], [\"/wiki/A_Life_in_a_Day_(transcript)\", 106, 6], [\"/wiki/Giant_Squidward_(transcript)\", 107, 6], [\"/wiki/Patty_Caper_(transcript)\", 108, 6], [\"/wiki/Boating_Buddies_(transcript)\", 109, 6], [\"/wiki/The_Slumber_Party_(transcript)\", 110, 6], [\"/wiki/SpongeBob_SquarePants_vs._The_Big_One_(transcript)\", 111, 6], [\"/wiki/Porous_Pockets_(transcript)\", 112, 6], [\"/wiki/Krusty_Krushers_(transcript)\", 113, 6], [\"/wiki/Dear_Vikings_(transcript)\", 114, 6], [\"/wiki/Grandpappy_the_Pirate_(transcript)\", 115, 6], [\"/wiki/Squid's_Visit_(transcript)\", 116, 6], [\"/wiki/Shuffleboarding_(transcript)\", 117, 6], [\"/wiki/Pet_or_Pests_(transcript)\", 118, 6], [\"/wiki/Gullible_Pants_(transcript)\", 119, 6], [\"/wiki/No_Hat_for_Pat_(transcript)\", 120, 6], [\"/wiki/Sand_Castles_in_the_Sand_(transcript)\", 121, 6], [\"/wiki/Chum_Bucket_Supreme_(transcript)\", 122, 6], [\"/wiki/Truth_or_Square_(transcript)\", 124, 6], [\"/wiki/Pineapple_Fever_(transcript)\", 125, 6], [\"/wiki/The_Clash_of_Triton_(transcript)\", 126, 6], [\"/wiki/Tentacle-Vision_(transcript)\", 127, 7], [\"/wiki/Growth_Spout_(transcript)\", 128, 7], [\"/wiki/Someone's_in_the_Kitchen_with_Sandy_(transcript)\", 129, 7], [\"/wiki/Greasy_Buffoons_(transcript)\", 130, 7], [\"/wiki/Keep_Bikini_Bottom_Beautiful_(transcript)\", 131, 7], [\"/wiki/Yours,_Mine_and_Mine_(transcript)\", 132, 7], [\"/wiki/The_Curse_of_Bikini_Bottom_(transcript)\", 133, 7], [\"/wiki/SpongeBob's_Last_Stand_(transcript)\", 134, 7], [\"/wiki/Back_to_the_Past_(transcript)\", 135, 7], [\"/wiki/A_Day_Without_Tears_(transcript)\", 136, 7], [\"/wiki/One_Coarse_Meal_(transcript)\", 137, 7], [\"/wiki/The_Play's_the_Thing_(transcript)\", 138, 7], [\"/wiki/Gramma's_Secret_Recipe_(transcript)\", 139, 7], [\"/wiki/The_Monster_Who_Came_to_Bikini_Bottom_(transcript)\", 140, 7], [\"/wiki/The_Curse_of_the_Hex_(transcript)\", 141, 7], [\"/wiki/Trenchbillies_(transcript)\", 142, 7], [\"/wiki/The_Great_Patty_Caper_(transcript)\", 143, 7], [\"/wiki/That_Sinking_Feeling_(transcript)\", 144, 7], [\"/wiki/Buried_in_Time_(transcript)\", 145, 7], [\"/wiki/The_Abrasive_Side_(transcript)\", 146, 7], [\"/wiki/Hide_and_Then_What_Happens_(transcript)\", 147, 7], [\"/wiki/The_Masterpiece_(transcript)\", 148, 7], [\"/wiki/You_Don%27t_Know_Sponge_(transcript)\", 149, 7], [\"/wiki/Krusty_Dogs_(transcript)\", 150, 7], [\"/wiki/New_Fish_in_Town_(transcript)\", 151, 7], [\"/wiki/Big_Sister_Sam_(transcript)\", 152, 7], [\"/wiki/Accidents_Will_Happen_(transcript)\", 153, 8], [\"/wiki/Drive_Thru_(transcript)\", 154, 8], [\"/wiki/A_Friendly_Game_(transcript)\", 155, 8], [\"/wiki/Frozen_Face-Off_(transcript)\", 156, 8], [\"/wiki/Squidward's_School_for_Grown-Ups_(transcript)\", 157, 8], [\"/wiki/Sweet_and_Sour_Squid_(transcript)\", 158, 8], [\"/wiki/A_SquarePants_Family_Vacation_(transcript)\", 159, 8], [\"/wiki/Patrick's_Staycation_(transcript)\", 160, 8], [\"/wiki/Mooncation_(transcript)\", 161, 8], [\"/wiki/Ghoul_Fools_(transcript)\", 162, 8], [\"/wiki/Mermaid_Man_Begins_(transcript)\", 163, 8], [\"/wiki/Barnacle_Face_(transcript)\", 164, 8], [\"/wiki/House_Sittin%27_for_Sandy_(transcript)\", 165, 8], [\"/wiki/The_Way_of_the_Sponge_(transcript)\", 166, 8], [\"/wiki/The_Krabby_Patty_That_Ate_Bikini_Bottom_(transcript)\", 167, 8], [\"/wiki/Restraining_SpongeBob_(transcript)\", 168, 8], [\"/wiki/Are_You_Happy_Now_(transcript)\", 169, 8], [\"/wiki/Free_Samples_(transcript)\", 170, 8], [\"/wiki/Karen_2.0_(transcript)\", 171, 8], [\"/wiki/Face_Freeze!_(transcript)\", 172, 8], [\"/wiki/Squiditis_(transcript)\", 173, 8], [\"/wiki/Treats!_(transcript)\", 174, 8], [\"/wiki/It's_a_SpongeBob_Christmas!_(transcript)\", 175, 8], [\"/wiki/Super_Evil_Aquatic_Villain_Team_Up_is_Go!_(transcript)\", 176, 8], [\"/wiki/The_Good_Krabby_Name_(transcript)\", 177, 8], [\"/wiki/Hello_Bikini_Bottom!_(transcript)\", 178, 8], [\"/wiki/Extreme_Spots_(transcript)\", 179, 9], [\"/wiki/Patrick-Man!_(transcript)\", 180, 9], [\"/wiki/License_to_Milkshake_(transcript)\", 181, 9], [\"/wiki/Little_Yellow_Book_(transcript)\", 182, 9], [\"/wiki/Eek,_an_Urchin!_(transcript)\", 183, 9], [\"/wiki/Jailbreak!_(transcript)\", 184, 9], [\"/wiki/It_Came_from_Goo_Lagoon_(transcript)\", 185, 9], [\"/wiki/Safe_Deposit_Krabs_(transcript)\", 186, 9], [\"/wiki/Don%27t_Look_Now_(transcript)\", 187, 9], [\"/wiki/Kenny_the_Cat_(transcript)\", 188, 9], [\"/wiki/SpongeBob_You're_Fired_(transcript)\", 189, 9], [\"/wiki/Lost_in_Bikini_Bottom_(transcript)\", 190, 9], [\"/wiki/Squid_Plus_One_(transcript)\", 191, 9], [\"/wiki/Company_Picnic_(transcript)\", 192, 9], [\"/wiki/Sanctuary!_(transcript)\", 193, 9], [\"/wiki/Patrick!_The_Game_(transcript)\", 194, 9], [\"/wiki/SpongeBob_LongPants_(transcript)\", 195, 9], [\"/wiki/The_Fish_Bowl_(transcript)\", 196, 9], [\"/wiki/Mall_Girl_Pearl_(transcript)\", 197, 9], [\"/wiki/Sharks_vs._Pods_(transcript)\", 198, 9], [\"/wiki/Sold!_(transcript)\", 199, 9], [\"/wiki/Goodbye,_Krabby_Patty_(transcript)\", 200, 9], [\"/wiki/Sandy's_Nutmare_(transcript)\", 201, 9], [\"/wiki/Food_Con_Castaways_(transcript)\", 202, 9], [\"/wiki/Pineapple_Invasion_(transcript)\", 203, 9], [\"/wiki/Mutiny_on_the_Krusty_(transcript)\", 204, 9], [\"/wiki/Whirly_Brains_(transcript)\", 205, 10], [\"/wiki/Mimic_Madness_(transcript)\", 207, 10], [\"/wiki/Snooze_You_Lose_(transcript)\", 208, 10], [\"/wiki/SpongeBob's_Place_(transcript)\", 209, 10], [\"/wiki/Life_Insurance_(transcript)\", 210, 10], [\"/wiki/Plankton_Retires_(transcript)\", 211, 10]]"
   ]
  },
  {
   "cell_type": "code",
   "execution_count": 38,
   "metadata": {},
   "outputs": [],
   "source": [
    "def spongebobSite(url, episode, season):\n",
    "    with requests.session() as c:\n",
    "        # setup url for request\n",
    "        url = \"http://spongebob.wikia.com\" + url;\n",
    "        \n",
    "        invalid_url_count = 0\n",
    "        invalid_episodes = []\n",
    "        \n",
    "        # Randomly get a sleep time\n",
    "        sleep_time = random.gauss(7, 3);\n",
    "        if sleep_time <= 0:\n",
    "            sleep_time = 2 * random.random();\n",
    "        time.sleep(sleep_time); \n",
    "        \n",
    "        # Make request\n",
    "        quest = requests.get(url);\n",
    "        \n",
    "        # ensure the request was completed\n",
    "        if (quest.status_code == 200):\n",
    "            # get all 'li' tags\n",
    "            soup = BeautifulSoup(str(quest.content), 'html.parser');\n",
    "            lines = soup.find_all(\"li\");\n",
    "\n",
    "            # The following logic will only get lines that have a ':' and it will store it in the proper list\n",
    "            for line in lines:\n",
    "                if line.text:\n",
    "                    input_array = line.text.split(\":\")\n",
    "                    if (len(input_array) == 2):\n",
    "                        character_array.append(input_array[0]);\n",
    "                        line_array.append(input_array[1])\n",
    "                        season_array.append(season)\n",
    "                        episode_array.append(episode)\n",
    "        else:\n",
    "            invalid_url_count += 1\n",
    "            invalid_episodes.append(episode)\n",
    "        return quest"
   ]
  },
  {
   "cell_type": "code",
   "execution_count": 27,
   "metadata": {},
   "outputs": [
    {
     "data": {
      "text/plain": [
       "<Response [200]>"
      ]
     },
     "execution_count": 27,
     "metadata": {},
     "output_type": "execute_result"
    }
   ],
   "source": [
    "spongebobSite(Season2[0][0], Season2[0][2], Season2[0][1])"
   ]
  },
  {
   "cell_type": "code",
   "execution_count": 41,
   "metadata": {
    "collapsed": true
   },
   "outputs": [],
   "source": [
    "# Instantiate needed arrays for calculations\n",
    "character_array = []\n",
    "line_array = []\n",
    "season_array = []\n",
    "episode_array = []\n",
    "# columns = {}\n",
    "\n",
    "# iterate through URLs for Spongebob transcripts\n",
    "for url_attempt in spongeBob_array:\n",
    "    spongebobSite(url_attempt[0], url_attempt[1], url_attempt[2]);\n",
    "    \n",
    "# Create a variable of the value of the columns\n",
    "columns = {'character': character_array, 'line': line_array, 'episode': episode_array, 'season': season_array}\n",
    "\n",
    "# Create a dataframe from the columns variable\n",
    "spongeDF = pd.DataFrame(columns)\n"
   ]
  },
  {
   "cell_type": "code",
   "execution_count": 44,
   "metadata": {},
   "outputs": [],
   "source": [
    "spongeDF.to_csv(\"spongebob-transcript.csv\", encoding='utf-8')"
   ]
  },
  {
   "cell_type": "code",
   "execution_count": null,
   "metadata": {
    "collapsed": true
   },
   "outputs": [],
   "source": []
  },
  {
   "cell_type": "code",
   "execution_count": null,
   "metadata": {
    "collapsed": true
   },
   "outputs": [],
   "source": []
  }
 ],
 "metadata": {
  "kernelspec": {
   "display_name": "Python 2",
   "language": "python",
   "name": "python2"
  },
  "language_info": {
   "codemirror_mode": {
    "name": "ipython",
    "version": 2
   },
   "file_extension": ".py",
   "mimetype": "text/x-python",
   "name": "python",
   "nbconvert_exporter": "python",
   "pygments_lexer": "ipython2",
   "version": "2.7.13"
  }
 },
 "nbformat": 4,
 "nbformat_minor": 2
}
